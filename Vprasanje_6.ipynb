{
 "cells": [
  {
   "cell_type": "markdown",
   "metadata": {},
   "source": [
    "\n",
    "| [Nazaj](Vprasanje_5.ipynb) | [Na kazalo](report.ipynb) | [Naprej](Vprasanje_graf_StNesrec_ProdAlk.ipynb) |\n",
    "|---|:---:|---:|\n"
   ]
  },
  {
   "cell_type": "markdown",
   "metadata": {},
   "source": [
    "### Spremembe legislacij v zvezni državi Iowa"
   ]
  },
  {
   "cell_type": "markdown",
   "metadata": {},
   "source": [
    "Za podatke o spremembah legislacij po letu 2006 smo iskali na straneh abd.iowa.gov ter googlali po raznih člankih. Našli smo naslednje podatke, ki so bolj osnovni, kaj drugih podatkov o spremembah zakonov ali legislacij pa nismo zasledili.\n",
    "\n",
    "<li>Najmanjša starost, da lahko legalno kupiš alkohol (oz ti ga prodajo) je 21 let</li>\n",
    "<li>Pitje alkohola v javnosti je načeloma prepovedano, če je oseba pod 21 let ji lahko tudi vzamejo izpit za avot, če tega ima</li>\n",
    "<li>Alkohol se lahko prodaja in servira od 6:00 - 2:00 (od šestih zjutraj do dveh zjutraj)</li>\n",
    "<li>Prepovedano je vinjen voziti motorno vozilo</li>\n",
    "\n"
   ]
  }
 ],
 "metadata": {
  "kernelspec": {
   "display_name": "Python 3",
   "language": "python",
   "name": "python3"
  },
  "language_info": {
   "codemirror_mode": {
    "name": "ipython",
    "version": 3
   },
   "file_extension": ".py",
   "mimetype": "text/x-python",
   "name": "python",
   "nbconvert_exporter": "python",
   "pygments_lexer": "ipython3",
   "version": "3.6.4"
  }
 },
 "nbformat": 4,
 "nbformat_minor": 2
}
