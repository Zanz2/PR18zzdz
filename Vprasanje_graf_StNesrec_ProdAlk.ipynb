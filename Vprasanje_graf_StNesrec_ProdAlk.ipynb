{
 "cells": [
  {
   "cell_type": "markdown",
   "metadata": {},
   "source": [
    "\n",
    "| [Nazaj](Vprasanje_6.ipynb) | [Na kazalo](report.ipynb) |  |\n",
    "|---|:---:|---:|\n"
   ]
  },
  {
   "cell_type": "code",
   "execution_count": 17,
   "metadata": {},
   "outputs": [],
   "source": [
    "% matplotlib inline\n",
    "import matplotlib.image as mpimg\n",
    "import matplotlib.pyplot as plt\n",
    "from Orange.data.filter import SameValue\n",
    "from Orange.data import Table\n",
    "import numpy as np\n",
    "from csv import DictReader\n",
    "from collections import defaultdict"
   ]
  },
  {
   "cell_type": "code",
   "execution_count": 18,
   "metadata": {},
   "outputs": [
    {
     "name": "stdout",
     "output_type": "stream",
     "text": [
      "Število prometnih nesreč mesec-leto:\n",
      "01-2016: 3157\n",
      "03-2016: 2276\n",
      "02-2016: 2865\n",
      "04-2016: 2357\n",
      "05-2016: 2738\n",
      "01-2006: 2610\n",
      "Število prodanega alkohola mesec-leto:\n",
      "11-2015: 5304\n",
      "01-2015: 4870\n",
      "02-2015: 4786\n",
      "06-2012: 5067\n",
      "04-2012: 5048\n",
      "06-2014: 5710\n"
     ]
    }
   ],
   "source": [
    "crash1 = defaultdict(list)\n",
    "#crash2 = defaultdict(list)\n",
    "liquor = defaultdict(list)\n",
    "crash1_month = defaultdict(int)\n",
    "liquor_month = defaultdict(int)\n",
    "\n",
    "crash1_filt_reader = DictReader(open('data/Crash_Data_1.csv', 'rt', encoding='utf-8'))\n",
    "#crash2_filt_reader = DictReader(open('data/Crash_Data_2_filt.csv', 'rt', encoding='utf-8'))\n",
    "liquor_filt_reader = DictReader(open('data/Liquor_Data_filt_non_rand.csv', 'rt', encoding='utf-8'))\n",
    "\n",
    "# prepis podatkov v seznam\n",
    "for row in crash1_filt_reader:\n",
    "    crash1[row[\"OBJECTID\"]] = [row[\"CRASH_DATE\"], row[\"CITYNAME\"], row[\"DRUGALC\"]]\n",
    "\n",
    "#for row in crash2_filt_reader:\n",
    "#    crash2[int(row[\"OBJECTID\"])] = [row[\"CRASH_DATE\"], row[\"DRUGALC\"]]\n",
    "\n",
    "for row in liquor_filt_reader:\n",
    "    liquor[row[\"Invoice/Item Number\"]] = [row[\"Date\"], row[\"City\"]]   \n",
    "\n",
    "print(\"Število prometnih nesreč mesec-leto:\")\n",
    "\n",
    "x = 0\n",
    "for key in crash1.keys():\n",
    "    date = (crash1[key][0].split(\"T\")[0])\n",
    "    ymd = date.split(\"-\")\n",
    "    month_year = ymd[1] + \"-\" + ymd[0]\n",
    "    crash1_month[month_year] += 1\n",
    "\n",
    "x = 0\n",
    "for e in crash1_month.keys():\n",
    "    print(e + \": \" + str(crash1_month[e]))\n",
    "    x = x + 1\n",
    "    if x > 5:\n",
    "        break\n",
    "\n",
    "print(\"Število prodanega alkohola mesec-leto:\")      \n",
    "\n",
    "x = 0\n",
    "for key in liquor.keys():\n",
    "    mdy = liquor[key][0].split(\"/\")\n",
    "    month_year = mdy[0] + \"-\" + mdy[2]\n",
    "    liquor_month[month_year] += 1\n",
    "\n",
    "x = 0\n",
    "for e in liquor_month.keys():\n",
    "    print(e + \": \" + str(liquor_month[e]))\n",
    "    x = x + 1\n",
    "    if x > 5:\n",
    "        break"
   ]
  },
  {
   "cell_type": "markdown",
   "metadata": {},
   "source": [
    "**Uporabljen drug pristop**"
   ]
  },
  {
   "cell_type": "code",
   "execution_count": 23,
   "metadata": {},
   "outputs": [
    {
     "name": "stdout",
     "output_type": "stream",
     "text": [
      "Mesec: 1-januar, količina prodanega alkohola: 206808.68 litrov, cena: 3101926.41$\n",
      "Mesec: 2-februar, količina prodanega alkohola: 220448.07 litrov, cena: 3238529.56$\n",
      "Mesec: 3-marec, količina prodanega alkohola: 236121.61 litrov, cena: 3739737.42$\n",
      "Mesec: 4-april, količina prodanega alkohola: 244784.19 litrov, cena: 3678158.20$\n",
      "Mesec: 5-maj, količina prodanega alkohola: 260013.39 litrov, cena: 3788373.61$\n",
      "Mesec: 6-junij, količina prodanega alkohola: 266225.78 litrov, cena: 3746400.74$\n",
      "Mesec: 7-julij, količina prodanega alkohola: 238908.91 litrov, cena: 3282433.75$\n",
      "Mesec: 8-avgust, količina prodanega alkohola: 237938.80 litrov, cena: 3368905.37$\n",
      "Mesec: 9-september, količina prodanega alkohola: 189006.85 litrov, cena: 2980050.60$\n",
      "Mesec: 10-oktober, količina prodanega alkohola: 267046.56 litrov, cena: 4040425.80$\n",
      "Mesec: 11-november, količina prodanega alkohola: 170003.88 litrov, cena: 2820874.59$\n",
      "Mesec: 12-december, količina prodanega alkohola: 233509.65 litrov, cena: 3861972.63$\n"
     ]
    }
   ],
   "source": [
    "import matplotlib.image as mpimg\n",
    "import matplotlib.pyplot as plt\n",
    "\n",
    "import numpy as np\n",
    "from csv import DictReader\n",
    "import pandas as pd\n",
    "from collections import defaultdict\n",
    "import csv\n",
    "\n",
    "\n",
    "# Za vsak mesec iščem število prodanega alkohola\n",
    "# relevantno gledati po atributu Bottle Volume(ml) ali po  Sale(Dollars)\n",
    "# podatke shranim v slovar, kjer je ključ posamezen mesec letu(1, 2, 3,..,12)\n",
    "\n",
    "liquor_reader = DictReader(open('data/Liquor_Data_filt.csv', 'rt', encoding='utf-8'))\n",
    "#print(liquor_reader.fieldnames)\n",
    "\n",
    "alkohol_kolicina = defaultdict(float)\n",
    "alkohol_denar = defaultdict(float)\n",
    "\n",
    "for i, liquor in enumerate(liquor_reader):\n",
    "    try:\n",
    "        # shranim datum in ceno alkohila, ki pa ji odrežem znak $\n",
    "        datum = pd.DatetimeIndex([liquor['Date']])\n",
    "        cena = liquor['Sale (Dollars)'].strip(\"$\")\n",
    "        # za mesec shranim količino alkohola\n",
    "        alkohol_kolicina[datum.month[0]] += float(liquor['Volume Sold (Liters)'])\n",
    "        # za še mesec shranim koliko denarja je bilo porabljeno za alkohol\n",
    "        alkohol_denar[datum.month[0]] += float(cena)\n",
    "    except Exception as e:\n",
    "        pass\n",
    "        #print(i, e)\n",
    "\n",
    "    #if i % 10000 == 0:\n",
    "    #    print(i)\n",
    "\n",
    "meseci = ['01-januar', '02-februar', '03-marec', '04-april', '05-maj', '06-junij', '07-julij', '08-avgust', '09-september', '10-oktober', '11-november', '12-december']\n",
    "# shranim podatke v csv datoteko\n",
    "with open('export/litri_cena.csv', 'w') as csvfile:\n",
    "    filewriter = csv.writer(csvfile, delimiter=',')\n",
    "    filewriter.writerow([\"Mesec\", \"Kolicina(l)\", \"Skupna cena($)\"])\n",
    "    for mesec, _ in sorted(alkohol_kolicina.items()):\n",
    "        print(\"Mesec: {}, količina prodanega alkohola: {:.2f} litrov, cena: {:.2f}$\".format(meseci[mesec - 1], alkohol_kolicina[mesec], alkohol_denar[mesec]))\n",
    "        filewriter.writerow([mesec, alkohol_kolicina[mesec], alkohol_denar[mesec]])"
   ]
  },
  {
   "cell_type": "code",
   "execution_count": 25,
   "metadata": {},
   "outputs": [
    {
     "data": {
      "image/png": "[encoded data removed]",
      "text/plain": [
       "<matplotlib.figure.Figure at 0x128ab41d0>"
      ]
     },
     "metadata": {},
     "output_type": "display_data"
    }
   ],
   "source": [
    "cash = []\n",
    "months = []\n",
    "meseci = ['01-januar', '02-februar', '03-marec', '04-april', '05-maj', '06-junij', '07-julij', '08-avgust', '09-september', '10-oktober', '11-november', '12-december']\n",
    "for mesec, _ in sorted(alkohol_kolicina.items()):\n",
    "    #print(mesec)\n",
    "    cash.append(alkohol_denar[mesec])\n",
    "    months.append(meseci[mesec-1])\n",
    "\n",
    "pyplot1 = plt\n",
    "pyplot1.figure()\n",
    "xlen= range(len(months))\n",
    "ylabel = cash\n",
    "#plt.set_ylabel(\"Frekvenčna porazdelitev\")\n",
    "pyplot1.bar(months,ylabel,align=\"center\", width=0.4, alpha=0.5)\n",
    "pyplot1.xticks(rotation=90)\n",
    "pyplot1.tight_layout()\n",
    "#plt.set_title(\"Frekvenca žanrov\")\n",
    "pyplot1.show()"
   ]
  },
  {
   "cell_type": "code",
   "execution_count": null,
   "metadata": {},
   "outputs": [],
   "source": []
  },
  {
   "cell_type": "code",
   "execution_count": null,
   "metadata": {},
   "outputs": [],
   "source": []
  }
 ],
 "metadata": {
  "kernelspec": {
   "display_name": "Python 3",
   "language": "python",
   "name": "python3"
  },
  "language_info": {
   "codemirror_mode": {
    "name": "ipython",
    "version": 3
   },
   "file_extension": ".py",
   "mimetype": "text/x-python",
   "name": "python",
   "nbconvert_exporter": "python",
   "pygments_lexer": "ipython3",
   "version": "3.6.4"
  }
 },
 "nbformat": 4,
 "nbformat_minor": 2
}
