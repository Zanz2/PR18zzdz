{
 "cells": [
  {
   "cell_type": "markdown",
   "metadata": {},
   "source": [
    "**This document will serve as a step by step report, on how the data was prepared for analysis, and later how it was visualized**"
   ]
  },
  {
   "cell_type": "code",
   "execution_count": 4,
   "metadata": {},
   "outputs": [
    {
     "name": "stderr",
     "output_type": "stream",
     "text": [
      "C:\\Users\\M4ski\\Anaconda3\\lib\\site-packages\\h5py\\__init__.py:36: FutureWarning: Conversion of the second argument of issubdtype from `float` to `np.floating` is deprecated. In future, it will be treated as `np.float64 == np.dtype(float).type`.\n",
      "  from ._conv import register_converters as _register_converters\n"
     ]
    }
   ],
   "source": [
    "# Relevantni importi\n",
    "% matplotlib inline\n",
    "import matplotlib.image as mpimg\n",
    "import matplotlib.pyplot as plt\n",
    "from Orange.data.filter import SameValue\n",
    "from Orange.data import Table\n",
    "import numpy as np\n",
    "from csv import DictReader"
   ]
  },
  {
   "cell_type": "code",
   "execution_count": 3,
   "metadata": {},
   "outputs": [],
   "source": [
    "# Odprem podatke za branje\n",
    "crash1_reader = DictReader(open('data/Crash_Data_1.csv', 'rt', encoding='utf-8'))\n",
    "crash2_reader = DictReader(open('data/Crash_Data_2.csv', 'rt', encoding='utf-8'))\n",
    "liquor_reader = DictReader(open('data/Liquor_Data.csv', 'rt', encoding='utf-8'))\n",
    "\n",
    "# crash1_o = Table(\"data/Crash_Data_1.csv\")\n",
    "# crash2_o = Table(\"data/Crash_Data_2.csv\")\n",
    "# liquor_o = Table(\"data/Liquor_Data.csv\")"
   ]
  },
  {
   "cell_type": "code",
   "execution_count": 4,
   "metadata": {},
   "outputs": [
    {
     "name": "stdout",
     "output_type": "stream",
     "text": [
      "['\\ufeffX', 'Y', 'OBJECTID', 'CRASH_KEY', 'CASENUMBER', 'LECASENUM', 'CRASH_DATE', 'CRASH_MONTH', 'CRASH_DAY', 'TIMESTR', 'DISTRICT', 'COUNTY_NUMBER', 'CITYNAME', 'SYSTEMSTR', 'LITERAL', 'FRSTHARM', 'LOCFSTHRM', 'CRCOMNNR', 'MAJCSE', 'DRUGALC', 'ECNTCRC', 'LIGHT', 'CSRFCND', 'WEATHER', 'RCNTCRC', 'RDTYP', 'PAVED', 'WZRELATED', 'CSEV', 'FATALITIES', 'INJURIES', 'MAJINJURY', 'MININJURY', 'POSSINJURY', 'UNKINJURY', 'PROPDMG', 'VEHICLES', 'TOCCUPANTS', 'REPORT', 'XCOORD', 'YCOORD']\n",
      "--------------\n",
      "['\\ufeffX', 'Y', 'OBJECTID', 'VEH_CRASH_KEY', 'VEH_UNITKEY', 'CASENUMBER', 'DRIVERAGE', 'DRIVERGEN', 'DL_STATE', 'CHARGED', 'ALCRESULT', 'DRUGTEST', 'DRUGRESULT', 'DRIVERCOND', 'VISIONOBS', 'DCONTCIRC1', 'DCONTCIRC2', 'VCONFIG', 'CARGOBODY', 'VYEAR', 'MAKE', 'MODEL', 'STYLE', 'VLP_STATE', 'OCCUPANTS', 'VACTION', 'SEQEVENTS1', 'SEQEVENTS2', 'SEQEVENTS3', 'SEQEVENTS4', 'MOSTHARM', 'SPEEDLIMIT', 'TRAFCONT', 'FIXOBJSTR', 'MOSTDAMAGE', 'DAMAGE', 'CSEVERITY', 'MAJORCAUSE', 'CSURFCOND', 'DRUGALCREL', 'ROADTYPE', 'WZ_RELATED', 'FATALITIES', 'CRASH_YEAR', 'XCOORD', 'YCOORD']\n",
      "--------------\n",
      "['Invoice/Item Number', 'Date', 'Store Number', 'Store Name', 'Address', 'City', 'Zip Code', 'Store Location', 'County Number', 'County', 'Category', 'Category Name', 'Vendor Number', 'Vendor Name', 'Item Number', 'Item Description', 'Pack', 'Bottle Volume (ml)', 'State Bottle Cost', 'State Bottle Retail', 'Bottles Sold', 'Sale (Dollars)', 'Volume Sold (Liters)', 'Volume Sold (Gallons)']\n"
     ]
    }
   ],
   "source": [
    "# Pogledam imena polj v podatkih\n",
    "# print(crash1_o.domain)\n",
    "# print(crash2_o.domain)\n",
    "# print(liquor_o.domain)\n",
    "print(crash1_reader.fieldnames)\n",
    "print(\"--------------\")\n",
    "print(crash2_reader.fieldnames)\n",
    "print(\"--------------\")\n",
    "print(liquor_reader.fieldnames)"
   ]
  },
  {
   "cell_type": "code",
   "execution_count": 5,
   "metadata": {},
   "outputs": [
    {
     "name": "stdout",
     "output_type": "stream",
     "text": [
      "OrderedDict([('\\ufeffX', '-93.511904910700665'), ('Y', '41.648063161780378'), ('OBJECTID', '1001'), ('CRASH_KEY', '2016902721'), ('CASENUMBER', '2016902721'), ('LECASENUM', '16-452'), ('CRASH_DATE', '2016-01-20T00:00:00.000Z'), ('CRASH_MONTH', '1'), ('CRASH_DAY', '4'), ('TIMESTR', '20:02'), ('DISTRICT', '1'), ('COUNTY_NUMBER', '77'), ('CITYNAME', '132'), ('SYSTEMSTR', 'US 6'), ('LITERAL', 'US 6/HUBBELL AVE/NE RAMP/SPEC CASE/FREDERICK M HUBBELL AVE'), ('FRSTHARM', '33'), ('LOCFSTHRM', '1'), ('CRCOMNNR', '4'), ('MAJCSE', '9'), ('DRUGALC', '8'), ('ECNTCRC', '1'), ('LIGHT', '5'), ('CSRFCND', '1'), ('WEATHER', '1'), ('RCNTCRC', '1'), ('RDTYP', '22'), ('PAVED', '1'), ('WZRELATED', ''), ('CSEV', '5'), ('FATALITIES', '0'), ('INJURIES', '0'), ('MAJINJURY', '0'), ('MININJURY', '0'), ('POSSINJURY', '0'), ('UNKINJURY', '0'), ('PROPDMG', '6000'), ('VEHICLES', '2'), ('TOCCUPANTS', '2'), ('REPORT', '7'), ('XCOORD', '457373'), ('YCOORD', '4610828')])\n",
      "------------------\n",
      "OrderedDict([('\\ufeffX', '-93.607673733813698'), ('Y', '41.702909486027323'), ('OBJECTID', '3002'), ('VEH_CRASH_KEY', '2006027266'), ('VEH_UNITKEY', '2006027266002'), ('CASENUMBER', '2006229155'), ('DRIVERAGE', '19'), ('DRIVERGEN', 'M'), ('DL_STATE', 'IA'), ('CHARGED', '1'), ('ALCRESULT', '0'), ('DRUGTEST', '1'), ('DRUGRESULT', '98'), ('DRIVERCOND', '1'), ('VISIONOBS', '1'), ('DCONTCIRC1', '99'), ('DCONTCIRC2', '77'), ('VCONFIG', '2'), ('CARGOBODY', '1'), ('VYEAR', '1990'), ('MAKE', 'DODG'), ('MODEL', 'DAKO'), ('STYLE', 'NR'), ('VLP_STATE', 'IA'), ('OCCUPANTS', '2'), ('VACTION', '6'), ('SEQEVENTS1', '33'), ('SEQEVENTS2', '20'), ('SEQEVENTS3', '77'), ('SEQEVENTS4', '77'), ('MOSTHARM', '33'), ('SPEEDLIMIT', '55'), ('TRAFCONT', '1'), ('FIXOBJSTR', '28'), ('MOSTDAMAGE', '6'), ('DAMAGE', '4'), ('CSEVERITY', '3'), ('MAJORCAUSE', '46'), ('CSURFCOND', '1'), ('DRUGALCREL', '8'), ('ROADTYPE', '1'), ('WZ_RELATED', ''), ('FATALITIES', '0'), ('CRASH_YEAR', '2006'), ('XCOORD', '449441'), ('YCOORD', '4616969')])\n",
      "------------------\n",
      "OrderedDict([('Invoice/Item Number', 'S28869000001'), ('Date', '11/10/2015'), ('Store Number', '2665'), ('Store Name', 'Hy-Vee / Waukee'), ('Address', '1005 E HICKMAN RD'), ('City', 'WAUKEE'), ('Zip Code', '50263'), ('Store Location', '1005 E HICKMAN RD\\nWAUKEE 50263\\n(41.614909, -93.842181)'), ('County Number', '25'), ('County', 'Dallas'), ('Category', ''), ('Category Name', ''), ('Vendor Number', '65'), ('Vendor Name', 'Jim Beam Brands'), ('Item Number', '237'), ('Item Description', 'Knob Creek w/ Crystal Decanter'), ('Pack', '3'), ('Bottle Volume (ml)', '1750'), ('State Bottle Cost', '$35.55'), ('State Bottle Retail', '$53.34'), ('Bottles Sold', '2'), ('Sale (Dollars)', '$106.68'), ('Volume Sold (Liters)', '3.50'), ('Volume Sold (Gallons)', '0.92')])\n"
     ]
    }
   ],
   "source": [
    "# Pregledam kako vnosi podatkov zgledajo\n",
    "for crash in crash1_reader:\n",
    "    print(crash)\n",
    "    break\n",
    "print(\"------------------\")\n",
    "for crash in crash2_reader:\n",
    "    print(crash)\n",
    "    break\n",
    "print(\"------------------\")\n",
    "for liquor in liquor_reader:\n",
    "    print(liquor)\n",
    "    break"
   ]
  },
  {
   "cell_type": "markdown",
   "metadata": {},
   "source": [
    "**Ker so nefiltrirani podatki različnih velikosti, in imajo različno število vnosov, jih sedaj moram filtrirati po neki kriterijski funkciji**\n",
    "Crash_Data_1.csv je velik 73 Mb\n",
    "Crash_Data_2.csv je velik 123 Mb\n",
    "Liquor_Data.csv je velik 3,47 Gb"
   ]
  },
  {
   "cell_type": "code",
   "execution_count": 15,
   "metadata": {},
   "outputs": [
    {
     "ename": "KeyboardInterrupt",
     "evalue": "",
     "output_type": "error",
     "traceback": [
      "\u001b[1;31m---------------------------------------------------------------------------\u001b[0m",
      "\u001b[1;31mKeyboardInterrupt\u001b[0m                         Traceback (most recent call last)",
      "\u001b[1;32m<ipython-input-15-b38b7e2cea40>\u001b[0m in \u001b[0;36m<module>\u001b[1;34m()\u001b[0m\n\u001b[0;32m      2\u001b[0m \u001b[1;31m# Vemo da imajo vsi podatke o datumu, tako da po intuiciji bi lahko\u001b[0m\u001b[1;33m\u001b[0m\u001b[1;33m\u001b[0m\u001b[0m\n\u001b[0;32m      3\u001b[0m \u001b[1;31m# filtrirali po tem.\u001b[0m\u001b[1;33m\u001b[0m\u001b[1;33m\u001b[0m\u001b[0m\n\u001b[1;32m----> 4\u001b[1;33m \u001b[0mcrash1_row_count\u001b[0m \u001b[1;33m=\u001b[0m \u001b[0msum\u001b[0m\u001b[1;33m(\u001b[0m\u001b[1;36m1\u001b[0m \u001b[1;32mfor\u001b[0m \u001b[0mcrash\u001b[0m \u001b[1;32min\u001b[0m \u001b[0mcrash1_reader\u001b[0m\u001b[1;33m)\u001b[0m\u001b[1;33m\u001b[0m\u001b[0m\n\u001b[0m\u001b[0;32m      5\u001b[0m \u001b[0mcrash2_row_count\u001b[0m \u001b[1;33m=\u001b[0m \u001b[0msum\u001b[0m\u001b[1;33m(\u001b[0m\u001b[1;36m1\u001b[0m \u001b[1;32mfor\u001b[0m \u001b[0mcrash\u001b[0m \u001b[1;32min\u001b[0m \u001b[0mcrash2_reader\u001b[0m\u001b[1;33m)\u001b[0m\u001b[1;33m\u001b[0m\u001b[0m\n\u001b[0;32m      6\u001b[0m \u001b[0mliquor_row_count\u001b[0m \u001b[1;33m=\u001b[0m \u001b[0msum\u001b[0m\u001b[1;33m(\u001b[0m\u001b[1;36m1\u001b[0m \u001b[1;32mfor\u001b[0m \u001b[0mliquor\u001b[0m \u001b[1;32min\u001b[0m \u001b[0mliquor_reader\u001b[0m\u001b[1;33m)\u001b[0m\u001b[1;33m\u001b[0m\u001b[0m\n",
      "\u001b[1;32m<ipython-input-15-b38b7e2cea40>\u001b[0m in \u001b[0;36m<genexpr>\u001b[1;34m(.0)\u001b[0m\n\u001b[0;32m      2\u001b[0m \u001b[1;31m# Vemo da imajo vsi podatke o datumu, tako da po intuiciji bi lahko\u001b[0m\u001b[1;33m\u001b[0m\u001b[1;33m\u001b[0m\u001b[0m\n\u001b[0;32m      3\u001b[0m \u001b[1;31m# filtrirali po tem.\u001b[0m\u001b[1;33m\u001b[0m\u001b[1;33m\u001b[0m\u001b[0m\n\u001b[1;32m----> 4\u001b[1;33m \u001b[0mcrash1_row_count\u001b[0m \u001b[1;33m=\u001b[0m \u001b[0msum\u001b[0m\u001b[1;33m(\u001b[0m\u001b[1;36m1\u001b[0m \u001b[1;32mfor\u001b[0m \u001b[0mcrash\u001b[0m \u001b[1;32min\u001b[0m \u001b[0mcrash1_reader\u001b[0m\u001b[1;33m)\u001b[0m\u001b[1;33m\u001b[0m\u001b[0m\n\u001b[0m\u001b[0;32m      5\u001b[0m \u001b[0mcrash2_row_count\u001b[0m \u001b[1;33m=\u001b[0m \u001b[0msum\u001b[0m\u001b[1;33m(\u001b[0m\u001b[1;36m1\u001b[0m \u001b[1;32mfor\u001b[0m \u001b[0mcrash\u001b[0m \u001b[1;32min\u001b[0m \u001b[0mcrash2_reader\u001b[0m\u001b[1;33m)\u001b[0m\u001b[1;33m\u001b[0m\u001b[0m\n\u001b[0;32m      6\u001b[0m \u001b[0mliquor_row_count\u001b[0m \u001b[1;33m=\u001b[0m \u001b[0msum\u001b[0m\u001b[1;33m(\u001b[0m\u001b[1;36m1\u001b[0m \u001b[1;32mfor\u001b[0m \u001b[0mliquor\u001b[0m \u001b[1;32min\u001b[0m \u001b[0mliquor_reader\u001b[0m\u001b[1;33m)\u001b[0m\u001b[1;33m\u001b[0m\u001b[0m\n",
      "\u001b[1;32mF:\\anacondapy\\lib\\csv.py\u001b[0m in \u001b[0;36m__next__\u001b[1;34m(self)\u001b[0m\n\u001b[0;32m    110\u001b[0m             \u001b[1;31m# Used only for its side effect.\u001b[0m\u001b[1;33m\u001b[0m\u001b[1;33m\u001b[0m\u001b[0m\n\u001b[0;32m    111\u001b[0m             \u001b[0mself\u001b[0m\u001b[1;33m.\u001b[0m\u001b[0mfieldnames\u001b[0m\u001b[1;33m\u001b[0m\u001b[0m\n\u001b[1;32m--> 112\u001b[1;33m         \u001b[0mrow\u001b[0m \u001b[1;33m=\u001b[0m \u001b[0mnext\u001b[0m\u001b[1;33m(\u001b[0m\u001b[0mself\u001b[0m\u001b[1;33m.\u001b[0m\u001b[0mreader\u001b[0m\u001b[1;33m)\u001b[0m\u001b[1;33m\u001b[0m\u001b[0m\n\u001b[0m\u001b[0;32m    113\u001b[0m         \u001b[0mself\u001b[0m\u001b[1;33m.\u001b[0m\u001b[0mline_num\u001b[0m \u001b[1;33m=\u001b[0m \u001b[0mself\u001b[0m\u001b[1;33m.\u001b[0m\u001b[0mreader\u001b[0m\u001b[1;33m.\u001b[0m\u001b[0mline_num\u001b[0m\u001b[1;33m\u001b[0m\u001b[0m\n\u001b[0;32m    114\u001b[0m \u001b[1;33m\u001b[0m\u001b[0m\n",
      "\u001b[1;32mF:\\anacondapy\\lib\\codecs.py\u001b[0m in \u001b[0;36mdecode\u001b[1;34m(self, input, final)\u001b[0m\n\u001b[0;32m    316\u001b[0m         \u001b[1;32mraise\u001b[0m \u001b[0mNotImplementedError\u001b[0m\u001b[1;33m\u001b[0m\u001b[0m\n\u001b[0;32m    317\u001b[0m \u001b[1;33m\u001b[0m\u001b[0m\n\u001b[1;32m--> 318\u001b[1;33m     \u001b[1;32mdef\u001b[0m \u001b[0mdecode\u001b[0m\u001b[1;33m(\u001b[0m\u001b[0mself\u001b[0m\u001b[1;33m,\u001b[0m \u001b[0minput\u001b[0m\u001b[1;33m,\u001b[0m \u001b[0mfinal\u001b[0m\u001b[1;33m=\u001b[0m\u001b[1;32mFalse\u001b[0m\u001b[1;33m)\u001b[0m\u001b[1;33m:\u001b[0m\u001b[1;33m\u001b[0m\u001b[0m\n\u001b[0m\u001b[0;32m    319\u001b[0m         \u001b[1;31m# decode input (taking the buffer into account)\u001b[0m\u001b[1;33m\u001b[0m\u001b[1;33m\u001b[0m\u001b[0m\n\u001b[0;32m    320\u001b[0m         \u001b[0mdata\u001b[0m \u001b[1;33m=\u001b[0m \u001b[0mself\u001b[0m\u001b[1;33m.\u001b[0m\u001b[0mbuffer\u001b[0m \u001b[1;33m+\u001b[0m \u001b[0minput\u001b[0m\u001b[1;33m\u001b[0m\u001b[0m\n",
      "\u001b[1;31mKeyboardInterrupt\u001b[0m: "
     ]
    }
   ],
   "source": [
    "# Prvo pregledamo število vnosov v posameznih datotekah,\n",
    "# Vemo da imajo vsi podatke o datumu, tako da po intuiciji bi lahko\n",
    "# filtrirali po tem.\n",
    "crash1_row_count = sum(1 for crash in crash1_reader)\n",
    "crash2_row_count = sum(1 for crash in crash2_reader)\n",
    "liquor_row_count = sum(1 for liquor in liquor_reader)\n",
    "\n",
    "print(\"Crash1 ima \"+ str(crash1_row_count) +\" vrstic.\") # 73Mb z 350 066 vrstic\n",
    "print(\"Crash2 ima \"+ str(crash2_row_count) +\" vrstic.\") # 123Mb z 602 387 vrstic\n",
    "print(\"Liquor ima \"+ str(liquor_row_count) +\" vrstic.\") # 3,47 Gb z 12 591 076 vrstic\n",
    "# Ker je čas branja pre velik, so vrstice zapisane v komentarjih zgoraj"
   ]
  },
  {
   "cell_type": "markdown",
   "metadata": {},
   "source": [
    "** Recimo da bi bilo smiselno, in časovno učinkovito, imeti enako število vnosov za vse tri. **"
   ]
  },
  {
   "cell_type": "markdown",
   "metadata": {},
   "source": [
    "** Ena rešitev tega problema, ki jo bom tudi uporabil, je da zmanjšam število vrstic Crash2 in Liquor podatkov na 350 066, kar je minimum od treh vrednosti, zato da niso datoteke pre velike. **"
   ]
  },
  {
   "cell_type": "markdown",
   "metadata": {},
   "source": [
    "** Ker bi metoda uporabe števca za koliko vrstic je prineslo težave (mogoče spustimo vrednosti za določen datum) bom raje z uporabu naključnosti se odločil če uporabim ta vnos, in če ga, prištejem števec, ko bo števec 350 066 se pisanje fila konča **"
   ]
  },
  {
   "cell_type": "code",
   "execution_count": 1,
   "metadata": {},
   "outputs": [],
   "source": [
    "import random\n",
    "import csv"
   ]
  },
  {
   "cell_type": "code",
   "execution_count": 6,
   "metadata": {},
   "outputs": [
    {
     "name": "stdout",
     "output_type": "stream",
     "text": [
      "350066\n",
      "Writing complete\n"
     ]
    }
   ],
   "source": [
    "with open('Crash_Data_2_filt.csv', 'w',encoding='utf-8') as csvfile:\n",
    "    writer = csv.DictWriter(csvfile, fieldnames=crash2_reader.fieldnames)\n",
    "    writer.writeheader()\n",
    "    count = 1\n",
    "    for crash in crash2_reader:\n",
    "        coin = random.randint(1, 3)\n",
    "        if coin > 1: \n",
    "            writer.writerow(crash) \n",
    "            count += 1\n",
    "        if count == 350066: break\n",
    "print(count)\n",
    "print(\"Writing complete\")"
   ]
  },
  {
   "cell_type": "code",
   "execution_count": 7,
   "metadata": {},
   "outputs": [
    {
     "name": "stdout",
     "output_type": "stream",
     "text": [
      "350066\n",
      "Writing complete\n"
     ]
    }
   ],
   "source": [
    "with open('Liquor_Data_filt.csv', 'w',encoding='utf-8') as csvfile:\n",
    "    writer = csv.DictWriter(csvfile, fieldnames=liquor_reader.fieldnames)\n",
    "    writer.writeheader()\n",
    "    count = 1\n",
    "    for liquor in liquor_reader:\n",
    "        coin = random.randint(1, 33)\n",
    "        if coin == 1: \n",
    "            writer.writerow(liquor) \n",
    "            count += 1\n",
    "        if count == 350066: break\n",
    "print(count)\n",
    "print(\"Writing complete\")"
   ]
  },
  {
   "cell_type": "markdown",
   "metadata": {},
   "source": [
    "** Delil sem 350066 s številom vrstic od zgoraj, da sem dobil približno katera verjetnost mora biti, da dokaj uravnoteženo filtriram podatke (2/3 je za crash2, 1/33 za liquor (približno))**"
   ]
  },
  {
   "cell_type": "code",
   "execution_count": 12,
   "metadata": {},
   "outputs": [],
   "source": [
    "# Filtrirani podatki naloženi\n",
    "crash1_filt_reader = DictReader(open('data/Crash_Data_1_filt.csv', 'rt', encoding='utf-8'))\n",
    "crash2_filt_reader = DictReader(open('data/Crash_Data_2_filt.csv', 'rt', encoding='utf-8'))\n",
    "liquor_filt_reader = DictReader(open('data/Liquor_Data_filt.csv', 'rt', encoding='utf-8'))\n"
   ]
  },
  {
   "cell_type": "markdown",
   "metadata": {},
   "source": [
    "**Odločil sem se narediti še eno selekcijo datotek, brez naključnosti**"
   ]
  },
  {
   "cell_type": "code",
   "execution_count": 11,
   "metadata": {},
   "outputs": [
    {
     "name": "stdout",
     "output_type": "stream",
     "text": [
      "350066\n",
      "Writing complete\n"
     ]
    }
   ],
   "source": [
    "with open('Crash_Data_2_filt_non_rand.csv', 'w',encoding='utf-8') as csvfile:\n",
    "    writer = csv.DictWriter(csvfile, fieldnames=crash2_reader.fieldnames)\n",
    "    writer.writeheader()\n",
    "    count = 1\n",
    "    other_count = 0\n",
    "    for crash in crash2_reader:\n",
    "        if other_count == 0 or other_count == 1: \n",
    "            writer.writerow(crash)\n",
    "            count += 1\n",
    "        other_count +=1\n",
    "        if other_count == 3:\n",
    "            other_count = 0\n",
    "        if count == 350066: break\n",
    "print(count)\n",
    "print(\"Writing complete\")"
   ]
  },
  {
   "cell_type": "code",
   "execution_count": 6,
   "metadata": {},
   "outputs": [
    {
     "ename": "NameError",
     "evalue": "name 'csv' is not defined",
     "output_type": "error",
     "traceback": [
      "\u001b[1;31m---------------------------------------------------------------------------\u001b[0m",
      "\u001b[1;31mNameError\u001b[0m                                 Traceback (most recent call last)",
      "\u001b[1;32m<ipython-input-6-a2dfb8df043e>\u001b[0m in \u001b[0;36m<module>\u001b[1;34m()\u001b[0m\n\u001b[0;32m      1\u001b[0m \u001b[1;32mwith\u001b[0m \u001b[0mopen\u001b[0m\u001b[1;33m(\u001b[0m\u001b[1;34m'Liquor_Data_filt_non_rand.csv'\u001b[0m\u001b[1;33m,\u001b[0m \u001b[1;34m'w'\u001b[0m\u001b[1;33m,\u001b[0m\u001b[0mencoding\u001b[0m\u001b[1;33m=\u001b[0m\u001b[1;34m'utf-8'\u001b[0m\u001b[1;33m)\u001b[0m \u001b[1;32mas\u001b[0m \u001b[0mcsvfile\u001b[0m\u001b[1;33m:\u001b[0m\u001b[1;33m\u001b[0m\u001b[0m\n\u001b[1;32m----> 2\u001b[1;33m     \u001b[0mwriter\u001b[0m \u001b[1;33m=\u001b[0m \u001b[0mcsv\u001b[0m\u001b[1;33m.\u001b[0m\u001b[0mDictWriter\u001b[0m\u001b[1;33m(\u001b[0m\u001b[0mcsvfile\u001b[0m\u001b[1;33m,\u001b[0m \u001b[0mfieldnames\u001b[0m\u001b[1;33m=\u001b[0m\u001b[0mliquor_reader\u001b[0m\u001b[1;33m.\u001b[0m\u001b[0mfieldnames\u001b[0m\u001b[1;33m)\u001b[0m\u001b[1;33m\u001b[0m\u001b[0m\n\u001b[0m\u001b[0;32m      3\u001b[0m     \u001b[0mwriter\u001b[0m\u001b[1;33m.\u001b[0m\u001b[0mwriteheader\u001b[0m\u001b[1;33m(\u001b[0m\u001b[1;33m)\u001b[0m\u001b[1;33m\u001b[0m\u001b[0m\n\u001b[0;32m      4\u001b[0m     \u001b[0mcount\u001b[0m \u001b[1;33m=\u001b[0m \u001b[1;36m1\u001b[0m\u001b[1;33m\u001b[0m\u001b[0m\n\u001b[0;32m      5\u001b[0m     \u001b[0mother_count\u001b[0m \u001b[1;33m=\u001b[0m \u001b[1;36m0\u001b[0m\u001b[1;33m\u001b[0m\u001b[0m\n",
      "\u001b[1;31mNameError\u001b[0m: name 'csv' is not defined"
     ]
    }
   ],
   "source": [
    "with open('Liquor_Data_filt_non_rand.csv', 'w',encoding='utf-8') as csvfile:\n",
    "    writer = csv.DictWriter(csvfile, fieldnames=liquor_reader.fieldnames)\n",
    "    writer.writeheader()\n",
    "    count = 1\n",
    "    other_count = 0\n",
    "    for liquor in liquor_reader:\n",
    "        if other_count == 0: \n",
    "            writer.writerow(liquor)\n",
    "            count += 1\n",
    "        other_count +=1\n",
    "        if other_count == 33:\n",
    "            other_count = 0\n",
    "\n",
    "        if count == 350066: break\n",
    "print(count)\n",
    "print(\"Writing complete\")"
   ]
  },
  {
   "cell_type": "code",
   "execution_count": 11,
   "metadata": {},
   "outputs": [],
   "source": [
    "# Filtrirani podatki naloženi (crash data filt je isti, ker je tako ali tako cel)\n",
    "crash1_filt_non_rand_reader = DictReader(open('data/Crash_Data_1_filt.csv', 'rt', encoding='utf-8'))\n",
    "crash2_filt_non_rand_reader = DictReader(open('data/Crash_Data_2_filt_non_rand.csv', 'rt', encoding='utf-8'))\n",
    "liquor_filt_non_rand_reader = DictReader(open('data/Liquor_Data_filt_non_rand.csv', 'rt', encoding='utf-8'))"
   ]
  },
  {
   "cell_type": "markdown",
   "metadata": {},
   "source": [
    "** Zapis podatkov iz readerja v slovar **\n",
    "\n",
    "Uporabil sem samo uporabne atribute"
   ]
  },
  {
   "cell_type": "code",
   "execution_count": 2,
   "metadata": {},
   "outputs": [],
   "source": [
    "from collections import defaultdict"
   ]
  },
  {
   "cell_type": "code",
   "execution_count": 24,
   "metadata": {},
   "outputs": [
    {
     "name": "stdout",
     "output_type": "stream",
     "text": [
      "Number of crashes per month-year:\n",
      "01-2016: 3157\n",
      "02-2016: 2865\n",
      "03-2016: 2276\n",
      "04-2016: 2357\n",
      "05-2016: 2738\n",
      "01-2006: 2610\n",
      "Amount of liquor sold per month-year:\n",
      "11-2015: 5270\n",
      "07-2013: 5739\n",
      "04-2013: 5412\n",
      "12-2012: 6172\n",
      "08-2013: 5246\n",
      "05-2014: 5062\n"
     ]
    }
   ],
   "source": [
    "crash1 = defaultdict(list)\n",
    "#crash2 = defaultdict(list)\n",
    "liquor = defaultdict(list)\n",
    "crash1_month = defaultdict(int)\n",
    "liquor_month = defaultdict(int)\n",
    "\n",
    "crash1_filt_reader = DictReader(open('data/Crash_Data_1_filt.csv', 'rt', encoding='utf-8'))\n",
    "#crash2_filt_reader = DictReader(open('data/Crash_Data_2_filt.csv', 'rt', encoding='utf-8'))\n",
    "liquor_filt_reader = DictReader(open('data/Liquor_Data_filt.csv', 'rt', encoding='utf-8'))\n",
    "\n",
    "# prepis podatkov v seznam\n",
    "for row in crash1_filt_reader:\n",
    "    crash1[row[\"OBJECTID\"]] = [row[\"CRASH_DATE\"], row[\"CITYNAME\"], row[\"DRUGALC\"]]\n",
    "\n",
    "#for row in crash2_filt_reader:\n",
    "#    crash2[int(row[\"OBJECTID\"])] = [row[\"CRASH_DATE\"], row[\"DRUGALC\"]]\n",
    "\n",
    "for row in liquor_filt_reader:\n",
    "    liquor[row[\"Invoice/Item Number\"]] = [row[\"Date\"], row[\"City\"]]   \n",
    "\n",
    "print(\"Number of crashes per month-year:\")\n",
    "\n",
    "x = 0\n",
    "for key in crash1.keys():\n",
    "    date = (crash1[key][0].split(\"T\")[0])\n",
    "    ymd = date.split(\"-\")\n",
    "    month_year = ymd[1] + \"-\" + ymd[0]\n",
    "    crash1_month[month_year] += 1\n",
    "\n",
    "x = 0\n",
    "for e in crash1_month.keys():\n",
    "    print(e + \": \" + str(crash1_month[e]))\n",
    "    x = x + 1\n",
    "    if x > 5:\n",
    "        break\n",
    "\n",
    "print(\"Amount of liquor sold per month-year:\")      \n",
    "\n",
    "x = 0\n",
    "for key in liquor.keys():\n",
    "    mdy = liquor[key][0].split(\"/\")\n",
    "    month_year = mdy[0] + \"-\" + mdy[2]\n",
    "    liquor_month[month_year] += 1\n",
    "\n",
    "x = 0\n",
    "for e in liquor_month.keys():\n",
    "    print(e + \": \" + str(liquor_month[e]))\n",
    "    x = x + 1\n",
    "    if x > 5:\n",
    "        break"
   ]
  },
  {
   "cell_type": "markdown",
   "metadata": {},
   "source": [
    "** Nabori atributov ki so lahko relevantni: **\n",
    "\n",
    "\n",
    "liquor data : \n",
    "date,store number,store name, adress,city,zip code,store location,county number, county,vendor name, item description,pack, volume bottle ml, state bottle cost, state bottle retail,bottles sold, sale (dollars), volumes sold litres\n",
    "\n",
    "\n",
    "crash data 1:\n",
    " koordinati (x in y ),date of crash, month of crash, day of week, time of crash, dot district, county, city,first harmful event, first harmful event location, manner of crash, major cause, drug or alcohol related, contributing circumstances - enviroment, light conditions, surface conditions, weather conditions, paved or not, work zone related, crash severity, number of fatalities, number of injuries, number of major injuries, number of minor injuries,amount of property damage, number of vehicles involved, total number of occupants, report type\n",
    "\n",
    "\n",
    "crash data 2:\n",
    "koordinati (x in y),starost voznika,spol voznika, alcohol test results, drug test results, driver condition,vision obscured, vehicle occupants, speed limit, traffic controls, most damaged area, extent of damage, crash severity, major cause, crash surface conditions, drug or alcohol related, number of fatalities\n",
    "\n"
   ]
  },
  {
   "cell_type": "markdown",
   "metadata": {},
   "source": [
    "** Primeri možnih povezav:\n",
    "**"
   ]
  },
  {
   "cell_type": "code",
   "execution_count": null,
   "metadata": {},
   "outputs": [],
   "source": []
  },
  {
   "cell_type": "code",
   "execution_count": null,
   "metadata": {},
   "outputs": [],
   "source": []
  },
  {
   "cell_type": "code",
   "execution_count": null,
   "metadata": {},
   "outputs": [],
   "source": []
  },
  {
   "cell_type": "code",
   "execution_count": null,
   "metadata": {},
   "outputs": [],
   "source": []
  }
 ],
 "metadata": {
  "kernelspec": {
   "display_name": "Python 3",
   "language": "python",
   "name": "python3"
  },
  "language_info": {
   "codemirror_mode": {
    "name": "ipython",
    "version": 3
   },
   "file_extension": ".py",
   "mimetype": "text/x-python",
   "name": "python",
   "nbconvert_exporter": "python",
   "pygments_lexer": "ipython3",
   "version": "3.6.4"
  }
 },
 "nbformat": 4,
 "nbformat_minor": 2
}
