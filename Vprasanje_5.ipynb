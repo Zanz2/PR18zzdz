{
 "cells": [
  {
   "cell_type": "markdown",
   "metadata": {},
   "source": [
    "\n",
    "## V povprečju, koliko je poškodb, ali žrtev v prometnih nesrečah, in če je to število povečano v nesrečah povezanih z alkoholom."
   ]
  },
  {
   "cell_type": "code",
   "execution_count": 20,
   "metadata": {},
   "outputs": [],
   "source": [
    "# Relevantni importi\n",
    "% matplotlib inline\n",
    "import matplotlib.image as mpimg\n",
    "import matplotlib.pyplot as plt\n",
    "from Orange.data.filter import SameValue\n",
    "from Orange.data import Table\n",
    "import numpy as np\n",
    "from csv import DictReader"
   ]
  },
  {
   "cell_type": "code",
   "execution_count": 21,
   "metadata": {},
   "outputs": [],
   "source": [
    "# Filtrirani podatki naloženi (crash data filt je isti, ker je tako ali tako cel)\n",
    "crash1_reader = DictReader(open('data/Crash_Data_1_filt.csv', 'rt', encoding='utf-8'))\n",
    "crash2_reader = DictReader(open('data/Crash_Data_2_filt_non_rand.csv', 'rt', encoding='utf-8'))\n",
    "liquor_reader = DictReader(open('data/Liquor_Data_filt_non_rand.csv', 'rt', encoding='utf-8'))"
   ]
  },
  {
   "cell_type": "code",
   "execution_count": 22,
   "metadata": {},
   "outputs": [
    {
     "name": "stdout",
     "output_type": "stream",
     "text": [
      "OrderedDict([('\\ufeffX', '-93.511904910700665'), ('Y', '41.648063161780378'), ('OBJECTID', '1001'), ('CRASH_KEY', '2016902721'), ('CASENUMBER', '2016902721'), ('LECASENUM', '16-452'), ('CRASH_DATE', '2016-01-20T00:00:00.000Z'), ('CRASH_MONTH', '1'), ('CRASH_DAY', '4'), ('TIMESTR', '20:02'), ('DISTRICT', '1'), ('COUNTY_NUMBER', '77'), ('CITYNAME', '132'), ('SYSTEMSTR', 'US 6'), ('LITERAL', 'US 6/HUBBELL AVE/NE RAMP/SPEC CASE/FREDERICK M HUBBELL AVE'), ('FRSTHARM', '33'), ('LOCFSTHRM', '1'), ('CRCOMNNR', '4'), ('MAJCSE', '9'), ('DRUGALC', '8'), ('ECNTCRC', '1'), ('LIGHT', '5'), ('CSRFCND', '1'), ('WEATHER', '1'), ('RCNTCRC', '1'), ('RDTYP', '22'), ('PAVED', '1'), ('WZRELATED', ''), ('CSEV', '5'), ('FATALITIES', '0'), ('INJURIES', '0'), ('MAJINJURY', '0'), ('MININJURY', '0'), ('POSSINJURY', '0'), ('UNKINJURY', '0'), ('PROPDMG', '6000'), ('VEHICLES', '2'), ('TOCCUPANTS', '2'), ('REPORT', '7'), ('XCOORD', '457373'), ('YCOORD', '4610828')])\n",
      "------------------\n",
      "OrderedDict([('\\ufeffX', '-92.650940972974254'), ('Y', '41.301146661887934'), ('OBJECTID', '2002'), ('VEH_CRASH_KEY', '2013020165'), ('VEH_UNITKEY', '2013020165001'), ('CASENUMBER', '2013744047'), ('DRIVERAGE', '65'), ('DRIVERGEN', 'M'), ('DL_STATE', 'IA'), ('CHARGED', '77'), ('ALCRESULT', '0'), ('DRUGTEST', '1'), ('DRUGRESULT', '77'), ('DRIVERCOND', '1'), ('VISIONOBS', '1'), ('DCONTCIRC1', '88'), ('DCONTCIRC2', '77'), ('VCONFIG', '2'), ('CARGOBODY', '1'), ('VYEAR', '1999'), ('MAKE', 'Ford'), ('MODEL', 'F150'), ('STYLE', '4 DOOR EXT C'), ('VLP_STATE', 'IA'), ('OCCUPANTS', '1'), ('VACTION', '9'), ('SEQEVENTS1', '35'), ('SEQEVENTS2', '77'), ('SEQEVENTS3', '77'), ('SEQEVENTS4', '77'), ('MOSTHARM', '35'), ('SPEEDLIMIT', '5'), ('TRAFCONT', '1'), ('FIXOBJSTR', '28'), ('MOSTDAMAGE', '6'), ('DAMAGE', '1'), ('CSEVERITY', '5'), ('MAJORCAUSE', '70'), ('CSURFCOND', '1'), ('DRUGALCREL', '8'), ('ROADTYPE', '4'), ('WZ_RELATED', ''), ('FATALITIES', '0'), ('CRASH_YEAR', '2013'), ('XCOORD', '529223'), ('YCOORD', '4572246')])\n",
      "------------------\n",
      "OrderedDict([('Invoice/Item Number', 'S29050300001'), ('Date', '11/16/2015'), ('Store Number', '3549'), ('Store Name', 'Quicker Liquor Store'), ('Address', '1414 48TH ST'), ('City', 'FORT MADISON'), ('Zip Code', '52627'), ('Store Location', '1414 48TH ST\\nFORT MADISON 52627\\n(40.624226, -91.373211)'), ('County Number', '56'), ('County', 'Lee'), ('Category', ''), ('Category Name', ''), ('Vendor Number', '130'), ('Vendor Name', 'Disaronno International LLC'), ('Item Number', '249'), ('Item Description', 'Disaronno Amaretto Cavalli Mignon 3-50ml Pack'), ('Pack', '20'), ('Bottle Volume (ml)', '150'), ('State Bottle Cost', '$6.40'), ('State Bottle Retail', '$9.60'), ('Bottles Sold', '2'), ('Sale (Dollars)', '$19.20'), ('Volume Sold (Liters)', '0.30'), ('Volume Sold (Gallons)', '0.08')])\n"
     ]
    }
   ],
   "source": [
    "# Pregledam kako vnosi podatkov zgledajo\n",
    "for crash in crash1_reader:\n",
    "    print(crash)\n",
    "    break\n",
    "print(\"------------------\")\n",
    "for crash in crash2_reader:\n",
    "    print(crash)\n",
    "    break\n",
    "print(\"------------------\")\n",
    "for liquor in liquor_reader:\n",
    "    print(liquor)\n",
    "    break"
   ]
  },
  {
   "cell_type": "code",
   "execution_count": 25,
   "metadata": {},
   "outputs": [
    {
     "name": "stdout",
     "output_type": "stream",
     "text": [
      "Povprečje v crash1:\n",
      "0.007392870507645679\n",
      "Povprečje v crash2:\n",
      "0.00793852570236956\n"
     ]
    }
   ],
   "source": [
    "# Povprečno število mrtvih v vseh prometnih nesrečah\n",
    "crash1_reader = DictReader(open('data/Crash_Data_1_filt.csv', 'rt', encoding='utf-8'))\n",
    "crash2_reader = DictReader(open('data/Crash_Data_2_filt_non_rand.csv', 'rt', encoding='utf-8'))\n",
    "\n",
    "crash1_fatality_sum = 0\n",
    "crash1_fatality_count = 0\n",
    "\n",
    "crash2_fatality_sum = 0\n",
    "crash2_fatality_count = 0\n",
    "for crash in crash1_reader:\n",
    "    crash1_fatality_sum += int(crash[\"FATALITIES\"])\n",
    "    crash1_fatality_count +=1\n",
    "\n",
    "for crash in crash2_reader:\n",
    "    crash2_fatality_sum += int(crash[\"FATALITIES\"])\n",
    "    crash2_fatality_count +=1\n",
    "print(\"Povprečje v crash1:\")\n",
    "print(str(crash1_fatality_sum/crash1_fatality_count))\n",
    "print(\"Povprečje v crash2:\")\n",
    "print(str(crash2_fatality_sum/crash2_fatality_count))"
   ]
  },
  {
   "cell_type": "markdown",
   "metadata": {},
   "source": [
    "** Torej verjetnost smrti v vseh vnosih je zelo mala **\n",
    "#### (crash1 povp = 0.007392870507645679 ) \n",
    "#### (crash2 povp = 0.00793852570236956 ) \n",
    "\n",
    "** Pogledal bom koliko je povprečno poškodb (večjih in manjših) v vseh prometnih nesrečah ** "
   ]
  },
  {
   "cell_type": "code",
   "execution_count": 42,
   "metadata": {},
   "outputs": [
    {
     "name": "stdout",
     "output_type": "stream",
     "text": [
      "Povprečje v crash1:\n",
      "0.3853776562772269\n"
     ]
    }
   ],
   "source": [
    "# Povprečno število poškodb v vseh prometnih nesrečah\n",
    "crash1_reader = DictReader(open('data/Crash_Data_1_filt.csv', 'rt', encoding='utf-8'))\n",
    "crash2_reader = DictReader(open('data/Crash_Data_2_filt_non_rand.csv', 'rt', encoding='utf-8'))\n",
    "\n",
    "crash1_fatality_sum = 0\n",
    "crash1_fatality_count = 0\n",
    "\n",
    "crash2_fatality_sum = 0\n",
    "crash2_fatality_count = 0\n",
    "for crash in crash1_reader:\n",
    "    crash1_fatality_sum += int(crash[\"INJURIES\"])\n",
    "    crash1_fatality_count +=1\n",
    "\n",
    "\n",
    "print(\"Povprečje v crash1:\")\n",
    "print(str(crash1_fatality_sum/crash1_fatality_count))"
   ]
  },
  {
   "cell_type": "markdown",
   "metadata": {},
   "source": [
    "###### Te podatke ima samo zbirka crash1, in sicer je povprečje 0.3853776562772269"
   ]
  },
  {
   "cell_type": "markdown",
   "metadata": {},
   "source": [
    "** Spodaj bom preveril verjetnost poškodbe in smrti v zbirki crash1 **"
   ]
  },
  {
   "cell_type": "code",
   "execution_count": 28,
   "metadata": {},
   "outputs": [
    {
     "name": "stdout",
     "output_type": "stream",
     "text": [
      "Verjetnost vnosa z smrtjo v podatkih:\n",
      "0.006630159369492126\n",
      "Verjetnost vnosa z poškodbo v podatkih:\n",
      "0.285131132040438\n"
     ]
    }
   ],
   "source": [
    "# Povprečno število vnosov z poškodbami in smrtmi v crash1\n",
    "crash1_reader = DictReader(open('data/Crash_Data_1_filt.csv', 'rt', encoding='utf-8'))\n",
    "\n",
    "crash1_fatality_count = 0\n",
    "crash1_injury_count = 0\n",
    "crash1_count = 0\n",
    "\n",
    "for crash in crash1_reader:\n",
    "    if(int(crash[\"INJURIES\"])>0):\n",
    "       crash1_injury_count += 1 \n",
    "    if(int(crash[\"FATALITIES\"])>0):\n",
    "       crash1_fatality_count += 1\n",
    "    crash1_count +=1\n",
    "\n",
    "\n",
    "print(\"Verjetnost vnosa z smrtjo v podatkih:\")\n",
    "print(str(crash1_fatality_count/crash1_count))\n",
    "print(\"Verjetnost vnosa z poškodbo v podatkih:\")\n",
    "print(str(crash1_injury_count/crash1_count))"
   ]
  },
  {
   "cell_type": "markdown",
   "metadata": {},
   "source": [
    "Verjetnost vnosa z smrtjo v podatkih:  \n",
    "0.006630159369492126  \n",
    "Verjetnost vnosa z poškodbo v podatkih:  \n",
    "0.285131132040438"
   ]
  },
  {
   "cell_type": "markdown",
   "metadata": {},
   "source": [
    "#### Sedaj bom preveril če so te vrednosti povečane pri nesrečah povezanih z alkoholom"
   ]
  },
  {
   "cell_type": "code",
   "execution_count": 36,
   "metadata": {},
   "outputs": [
    {
     "name": "stdout",
     "output_type": "stream",
     "text": [
      "Povprečje v crash2:\n",
      "0.05073869571705716\n"
     ]
    }
   ],
   "source": [
    "# Povprečno število mrtvih v vseh prometnih nesrečah\n",
    "crash2_reader = DictReader(open('data/Crash_Data_2_filt_non_rand.csv', 'rt', encoding='utf-8'))\n",
    "\n",
    "crash2_fatality_sum = 0\n",
    "crash2_fatality_count = 0\n",
    "\n",
    "for crash in crash2_reader:\n",
    "    if(float(crash[\"ALCRESULT\"])>0):\n",
    "        crash2_fatality_sum += int(crash[\"FATALITIES\"])\n",
    "        crash2_fatality_count +=1\n",
    "\n",
    "print(\"Povprečje smrti v crash2 kjer je alcresult večji od 0:\")\n",
    "print(str(crash2_fatality_sum/crash2_fatality_count))"
   ]
  },
  {
   "cell_type": "markdown",
   "metadata": {},
   "source": [
    "** Povprečje smrti v vseh vnosih z pozitivnim alkohol testom je 0.05073869571705716 **\n"
   ]
  },
  {
   "cell_type": "code",
   "execution_count": 43,
   "metadata": {},
   "outputs": [
    {
     "name": "stdout",
     "output_type": "stream",
     "text": [
      "Verjetnost vnosa z smrtjo, kjer je alkohol test pozitiven:\n",
      "0.043277122817489924\n"
     ]
    }
   ],
   "source": [
    "# Povprečno število smrti za nesreče z alkohol testom > 0\n",
    "crash2_reader = DictReader(open('data/Crash_Data_2_filt_non_rand.csv', 'rt', encoding='utf-8'))\n",
    "crash2_fatality_count = 0\n",
    "crash2_count = 0\n",
    "\n",
    "for crash in crash2_reader:\n",
    "    if(int(crash[\"FATALITIES\"])>0 and float(crash[\"ALCRESULT\"])>0):\n",
    "       crash2_fatality_count += 1\n",
    "    if float(crash[\"ALCRESULT\"])>0:\n",
    "        crash2_count +=1\n",
    "\n",
    "\n",
    "print(\"Verjetnost vnosa z smrtjo, kjer je alkohol test pozitiven:\")\n",
    "print(str(crash2_fatality_count/crash2_count))"
   ]
  },
  {
   "cell_type": "markdown",
   "metadata": {},
   "source": [
    "Verjetnost vnosa z smrtjo, kjer je alkohol test pozitiven je torej  0.0008284175795923614"
   ]
  },
  {
   "cell_type": "markdown",
   "metadata": {},
   "source": [
    "| Vse | Povp št. mrtvih | Povp št. poškodovanih | Verjetnost vnosa z smrtjo | Verjetnost vnosa z poškodbo |\n",
    "|-----|-----|-----|-----|-----|\n",
    "| | 0.00793852570236956 | 0.3853776562772269   | 0.006630159369492126  | 0.285131132040438  |\n",
    "\n",
    "| Alk. test > 0 | Povp št. mrtvih | Povp št. poškodovanih | Verjetnost vnosa z smrtjo | Verjetnost vnosa z poškodbo |\n",
    "|-----|-----|-----|-----|-----|\n",
    "| | 0.05073869571705716 |  //  | 0.043277122817489924  | //  |\n",
    "\n"
   ]
  },
  {
   "cell_type": "markdown",
   "metadata": {},
   "source": [
    "** Vidimo, da sta vrednosti povečane, kjer smo upoštevali samo vnose z pozitivnim alk. testom, ampak, ker ima samo druga podatkovna zbirka podatek o alkohol testu, nima pa podatkov o poškodovanih, tega nemoremo primerjati **\n"
   ]
  }
 ],
 "metadata": {
  "kernelspec": {
   "display_name": "Python 3",
   "language": "python",
   "name": "python3"
  },
  "language_info": {
   "codemirror_mode": {
    "name": "ipython",
    "version": 3
   },
   "file_extension": ".py",
   "mimetype": "text/x-python",
   "name": "python",
   "nbconvert_exporter": "python",
   "pygments_lexer": "ipython3",
   "version": "3.6.4"
  }
 },
 "nbformat": 4,
 "nbformat_minor": 2
}
