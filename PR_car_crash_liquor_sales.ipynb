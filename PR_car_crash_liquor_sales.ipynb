{
 "cells": [
  {
   "cell_type": "markdown",
   "metadata": {},
   "source": [
    "# Iowa podatki o prometnih nesrečah in prodaji alkohola"
   ]
  },
  {
   "cell_type": "markdown",
   "metadata": {},
   "source": [
    "Naša skupina poskuša iz dveh podatkovnih množic o prometnih nesrečah v zvezni državi Iowi, in eni podatkovni množici o prodaji alkohola v zvezni državi Iowi, najti korelacijo zvišane prodaje alkohola in večji pogostosti prometnih nesreč."
   ]
  },
  {
   "cell_type": "markdown",
   "metadata": {},
   "source": [
    "### Opažanja"
   ]
  },
  {
   "cell_type": "markdown",
   "metadata": {},
   "source": [
    "Ugotovili smo da je v podatkih veliko atributov, ki jih nebomo uporabljali (razni IDji, in neznane kategorije)."
   ]
  },
  {
   "cell_type": "markdown",
   "metadata": {},
   "source": [
    "### Pregled podatkov"
   ]
  },
  {
   "cell_type": "markdown",
   "metadata": {},
   "source": [
    "Spodaj smo odprli podatke da vidimo kakšne oblike so"
   ]
  },
  {
   "cell_type": "code",
   "execution_count": 4,
   "metadata": {},
   "outputs": [],
   "source": [
    "# Relevantni importi\n",
    "% matplotlib inline\n",
    "import matplotlib.image as mpimg\n",
    "import matplotlib.pyplot as plt\n",
    "from Orange.data.filter import SameValue\n",
    "from Orange.data import Table\n",
    "import numpy as np\n",
    "from csv import DictReader"
   ]
  },
  {
   "cell_type": "code",
   "execution_count": 7,
   "metadata": {},
   "outputs": [],
   "source": [
    "# Odprem podatke za branje\n",
    "crash1_reader = DictReader(open('data/Crash_Data_1.csv', 'rt', encoding='utf-8'))\n",
    "crash2_reader = DictReader(open('data/Crash_Data_2.csv', 'rt', encoding='utf-8'))\n",
    "liquor_reader = DictReader(open('data/Liquor_Data.csv', 'rt', encoding='utf-8'))\n",
    "\n",
    "# crash1_o = Table(\"data/Crash_Data_1.csv\")\n",
    "# crash2_o = Table(\"data/Crash_Data_2.csv\")\n",
    "# liquor_o = Table(\"data/Liquor_Data.csv\")"
   ]
  },
  {
   "cell_type": "code",
   "execution_count": 8,
   "metadata": {},
   "outputs": [
    {
     "name": "stdout",
     "output_type": "stream",
     "text": [
      "['\\ufeffX', 'Y', 'OBJECTID', 'CRASH_KEY', 'CASENUMBER', 'LECASENUM', 'CRASH_DATE', 'CRASH_MONTH', 'CRASH_DAY', 'TIMESTR', 'DISTRICT', 'COUNTY_NUMBER', 'CITYNAME', 'SYSTEMSTR', 'LITERAL', 'FRSTHARM', 'LOCFSTHRM', 'CRCOMNNR', 'MAJCSE', 'DRUGALC', 'ECNTCRC', 'LIGHT', 'CSRFCND', 'WEATHER', 'RCNTCRC', 'RDTYP', 'PAVED', 'WZRELATED', 'CSEV', 'FATALITIES', 'INJURIES', 'MAJINJURY', 'MININJURY', 'POSSINJURY', 'UNKINJURY', 'PROPDMG', 'VEHICLES', 'TOCCUPANTS', 'REPORT', 'XCOORD', 'YCOORD']\n",
      "--------------\n",
      "['\\ufeffX', 'Y', 'OBJECTID', 'VEH_CRASH_KEY', 'VEH_UNITKEY', 'CASENUMBER', 'DRIVERAGE', 'DRIVERGEN', 'DL_STATE', 'CHARGED', 'ALCRESULT', 'DRUGTEST', 'DRUGRESULT', 'DRIVERCOND', 'VISIONOBS', 'DCONTCIRC1', 'DCONTCIRC2', 'VCONFIG', 'CARGOBODY', 'VYEAR', 'MAKE', 'MODEL', 'STYLE', 'VLP_STATE', 'OCCUPANTS', 'VACTION', 'SEQEVENTS1', 'SEQEVENTS2', 'SEQEVENTS3', 'SEQEVENTS4', 'MOSTHARM', 'SPEEDLIMIT', 'TRAFCONT', 'FIXOBJSTR', 'MOSTDAMAGE', 'DAMAGE', 'CSEVERITY', 'MAJORCAUSE', 'CSURFCOND', 'DRUGALCREL', 'ROADTYPE', 'WZ_RELATED', 'FATALITIES', 'CRASH_YEAR', 'XCOORD', 'YCOORD']\n",
      "--------------\n",
      "['Invoice/Item Number', 'Date', 'Store Number', 'Store Name', 'Address', 'City', 'Zip Code', 'Store Location', 'County Number', 'County', 'Category', 'Category Name', 'Vendor Number', 'Vendor Name', 'Item Number', 'Item Description', 'Pack', 'Bottle Volume (ml)', 'State Bottle Cost', 'State Bottle Retail', 'Bottles Sold', 'Sale (Dollars)', 'Volume Sold (Liters)', 'Volume Sold (Gallons)']\n"
     ]
    }
   ],
   "source": [
    "# Pogledam imena polj v podatkih\n",
    "# print(crash1_o.domain)\n",
    "# print(crash2_o.domain)\n",
    "# print(liquor_o.domain)\n",
    "print(crash1_reader.fieldnames)\n",
    "print(\"--------------\")\n",
    "print(crash2_reader.fieldnames)\n",
    "print(\"--------------\")\n",
    "print(liquor_reader.fieldnames)"
   ]
  },
  {
   "cell_type": "code",
   "execution_count": 9,
   "metadata": {},
   "outputs": [
    {
     "name": "stdout",
     "output_type": "stream",
     "text": [
      "OrderedDict([('\\ufeffX', '-93.924554431950895'), ('Y', '42.048465967987823'), ('OBJECTID', '2003'), ('CRASH_KEY', '2016903367'), ('CASENUMBER', '2016903367'), ('LECASENUM', '201600311'), ('CRASH_DATE', '2016-01-22T00:00:00.000Z'), ('CRASH_MONTH', '1'), ('CRASH_DAY', '6'), ('TIMESTR', '07:56'), ('DISTRICT', '1'), ('COUNTY_NUMBER', '8'), ('CITYNAME', '0'), ('SYSTEMSTR', ''), ('LITERAL', 'Co Rd E41/216TH DR'), ('FRSTHARM', '20'), ('LOCFSTHRM', '1'), ('CRCOMNNR', '1'), ('MAJCSE', '42'), ('DRUGALC', '8'), ('ECNTCRC', '1'), ('LIGHT', '1'), ('CSRFCND', '3'), ('WEATHER', '2'), ('RCNTCRC', '2'), ('RDTYP', '1'), ('PAVED', '1'), ('WZRELATED', ''), ('CSEV', '4'), ('FATALITIES', '0'), ('INJURIES', '1'), ('MAJINJURY', '0'), ('MININJURY', '0'), ('POSSINJURY', '1'), ('UNKINJURY', '0'), ('PROPDMG', '4000'), ('VEHICLES', '1'), ('TOCCUPANTS', '1'), ('REPORT', '7'), ('XCOORD', '423489'), ('YCOORD', '4655570')])\n",
      "------------------\n",
      "OrderedDict([('\\ufeffX', '-93.522746192863863'), ('Y', '43.365760584603784'), ('OBJECTID', '2001'), ('VEH_CRASH_KEY', '2013020105'), ('VEH_UNITKEY', '2013020105001'), ('CASENUMBER', '2013743981'), ('DRIVERAGE', '17'), ('DRIVERGEN', 'F'), ('DL_STATE', 'IA'), ('CHARGED', '1'), ('ALCRESULT', '0'), ('DRUGTEST', '1'), ('DRUGRESULT', '77'), ('DRIVERCOND', '1'), ('VISIONOBS', '1'), ('DCONTCIRC1', '6'), ('DCONTCIRC2', '8'), ('VCONFIG', '1'), ('CARGOBODY', '1'), ('VYEAR', '1996'), ('MAKE', 'Dodg'), ('MODEL', 'Intr'), ('STYLE', 'SEDAN 4 DOOR'), ('VLP_STATE', 'IA'), ('OCCUPANTS', '1'), ('VACTION', '2'), ('SEQEVENTS1', '2'), ('SEQEVENTS2', '6'), ('SEQEVENTS3', '4'), ('SEQEVENTS4', '13'), ('MOSTHARM', '77'), ('SPEEDLIMIT', '45'), ('TRAFCONT', '6'), ('FIXOBJSTR', '28'), ('MOSTDAMAGE', '13'), ('DAMAGE', '5'), ('CSEVERITY', '5'), ('MAJORCAUSE', '23'), ('CSURFCOND', '1'), ('DRUGALCREL', '8'), ('ROADTYPE', '96'), ('WZ_RELATED', ''), ('FATALITIES', '0'), ('CRASH_YEAR', '2013'), ('XCOORD', '457646'), ('YCOORD', '4801565')])\n",
      "------------------\n",
      "OrderedDict([('Invoice/Item Number', 'S29198800001'), ('Date', '11/20/2015'), ('Store Number', '2191'), ('Store Name', 'Keokuk Spirits'), ('Address', '1013 MAIN'), ('City', 'KEOKUK'), ('Zip Code', '52632'), ('Store Location', '1013 MAIN\\nKEOKUK 52632\\n(40.39978, -91.387531)'), ('County Number', '56'), ('County', 'Lee'), ('Category', ''), ('Category Name', ''), ('Vendor Number', '255'), ('Vendor Name', 'Wilson Daniels Ltd.'), ('Item Number', '297'), ('Item Description', 'Templeton Rye w/Flask'), ('Pack', '6'), ('Bottle Volume (ml)', '750'), ('State Bottle Cost', '$18.09'), ('State Bottle Retail', '$27.14'), ('Bottles Sold', '6'), ('Sale (Dollars)', '$162.84'), ('Volume Sold (Liters)', '4.50'), ('Volume Sold (Gallons)', '1.19')])\n"
     ]
    }
   ],
   "source": [
    "# Pregledam kako vnosi podatkov zgledajo\n",
    "for crash in crash1_reader:\n",
    "    print(crash)\n",
    "    break\n",
    "print(\"------------------\")\n",
    "for crash in crash2_reader:\n",
    "    print(crash)\n",
    "    break\n",
    "print(\"------------------\")\n",
    "for liquor in liquor_reader:\n",
    "    print(liquor)\n",
    "    break"
   ]
  },
  {
   "cell_type": "markdown",
   "metadata": {},
   "source": [
    "**Ker so nefiltrirani podatki različnih velikosti, in imajo različno število vnosov, jih sedaj moram filtrirati po neki kriterijski funkciji**\n",
    "Crash_Data_1.csv je velik 73 Mb\n",
    "Crash_Data_2.csv je velik 123 Mb\n",
    "Liquor_Data.csv je velik 3,47 Gb"
   ]
  },
  {
   "cell_type": "code",
   "execution_count": null,
   "metadata": {},
   "outputs": [],
   "source": [
    "# Prvo pregledamo število vnosov v posameznih datotekah,\n",
    "# Vemo da imajo vsi podatke o datumu, tako da po intuiciji bi lahko\n",
    "# filtrirali po tem.\n",
    "crash1_row_count = sum(1 for crash in crash1_reader)\n",
    "crash2_row_count = sum(1 for crash in crash2_reader)\n",
    "liquor_row_count = sum(1 for liquor in liquor_reader)\n",
    "\n",
    "print(\"Crash1 ima \"+ str(crash1_row_count) +\" vrstic.\") # 73Mb z 350 066 vrstic\n",
    "print(\"Crash2 ima \"+ str(crash2_row_count) +\" vrstic.\") # 123Mb z 602 387 vrstic\n",
    "print(\"Liquor ima \"+ str(liquor_row_count) +\" vrstic.\") # 3,47 Gb z 12 591 076 vrstic\n",
    "# Ker je čas branja pre velik, so vrstice zapisane v komentarjih zgoraj"
   ]
  },
  {
   "cell_type": "markdown",
   "metadata": {},
   "source": [
    "** Recimo da bi bilo smiselno, in časovno učinkovito, imeti enako število vnosov za vse tri. **"
   ]
  },
  {
   "cell_type": "markdown",
   "metadata": {},
   "source": [
    "** Ena rešitev tega problema, ki jo bom tudi uporabil, je da zmanjšam število vrstic Crash2 in Liquor podatkov na 350 066, kar je minimum od treh vrednosti, zato da niso datoteke pre velike. **"
   ]
  },
  {
   "cell_type": "markdown",
   "metadata": {},
   "source": [
    "** Prvo se bom z uporabu naključnosti odločil če uporabim ta vnos (kovanec), in če ga, prištejem števec, ko bo števec 350 066 se pisanje fila konča **"
   ]
  },
  {
   "cell_type": "code",
   "execution_count": 3,
   "metadata": {},
   "outputs": [],
   "source": [
    "import random\n",
    "import csv"
   ]
  },
  {
   "cell_type": "code",
   "execution_count": 6,
   "metadata": {},
   "outputs": [
    {
     "name": "stdout",
     "output_type": "stream",
     "text": [
      "350066\n",
      "Writing complete\n"
     ]
    }
   ],
   "source": [
    "with open('Crash_Data_2_filt.csv', 'w',encoding='utf-8') as csvfile:\n",
    "    writer = csv.DictWriter(csvfile, fieldnames=crash2_reader.fieldnames)\n",
    "    writer.writeheader()\n",
    "    count = 1\n",
    "    for crash in crash2_reader:\n",
    "        coin = random.randint(1, 3)\n",
    "        if coin > 1: \n",
    "            writer.writerow(crash) \n",
    "            count += 1\n",
    "        if count == 350066: break\n",
    "print(count)\n",
    "print(\"Writing complete\")"
   ]
  },
  {
   "cell_type": "code",
   "execution_count": 7,
   "metadata": {},
   "outputs": [
    {
     "name": "stdout",
     "output_type": "stream",
     "text": [
      "350066\n",
      "Writing complete\n"
     ]
    }
   ],
   "source": [
    "\n",
    "with open('Liquor_Data_filt.csv', 'w',encoding='utf-8') as csvfile:\n",
    "    writer = csv.DictWriter(csvfile, fieldnames=liquor_reader.fieldnames)\n",
    "    writer.writeheader()\n",
    "    count = 1\n",
    "    for liquor in liquor_reader:\n",
    "        coin = random.randint(1, 33)\n",
    "        if coin == 1: \n",
    "            writer.writerow(liquor) \n",
    "            count += 1\n",
    "        if count == 350066: break\n",
    "print(count)\n",
    "print(\"Writing complete\")"
   ]
  },
  {
   "cell_type": "markdown",
   "metadata": {},
   "source": [
    "** Delil sem 350066 z številom vrstic od zgoraj, da sem dobil približno katera verjetnost mora biti, da dokaj uravnoteženo filtriram podatke (2/3 je za crash2, 1/33 za liquor (približno))**"
   ]
  },
  {
   "cell_type": "code",
   "execution_count": 10,
   "metadata": {},
   "outputs": [],
   "source": [
    "# Filtrirani podatki naloženi\n",
    "crash1_filt_reader = DictReader(open('data/Crash_Data_1_filt.csv', 'rt', encoding='utf-8'))\n",
    "crash2_filt_reader = DictReader(open('data/Crash_Data_2_filt.csv', 'rt', encoding='utf-8'))\n",
    "liquor_filt_reader = DictReader(open('data/Liquor_Data_filt.csv', 'rt', encoding='utf-8'))\n"
   ]
  },
  {
   "cell_type": "markdown",
   "metadata": {},
   "source": [
    "**Odločil sem se narediti še eno selekcijo datotek, brez naključnosti**"
   ]
  },
  {
   "cell_type": "code",
   "execution_count": 11,
   "metadata": {},
   "outputs": [
    {
     "name": "stdout",
     "output_type": "stream",
     "text": [
      "350066\n",
      "Writing complete\n"
     ]
    }
   ],
   "source": [
    "with open('Crash_Data_2_filt_non_rand.csv', 'w',encoding='utf-8') as csvfile:\n",
    "    writer = csv.DictWriter(csvfile, fieldnames=crash2_reader.fieldnames)\n",
    "    writer.writeheader()\n",
    "    count = 1\n",
    "    other_count = 0\n",
    "    for crash in crash2_reader:\n",
    "        if other_count == 0 or other_count == 1: \n",
    "            writer.writerow(crash)\n",
    "            count += 1\n",
    "        other_count +=1\n",
    "        if other_count == 3:\n",
    "            other_count = 0\n",
    "        if count == 350066: break\n",
    "print(count)\n",
    "print(\"Writing complete\")"
   ]
  },
  {
   "cell_type": "code",
   "execution_count": 13,
   "metadata": {},
   "outputs": [
    {
     "name": "stdout",
     "output_type": "stream",
     "text": [
      "350066\n",
      "Writing complete\n"
     ]
    }
   ],
   "source": [
    "with open('Liquor_Data_filt_non_rand.csv', 'w',encoding='utf-8') as csvfile:\n",
    "    writer = csv.DictWriter(csvfile, fieldnames=liquor_reader.fieldnames)\n",
    "    writer.writeheader()\n",
    "    count = 1\n",
    "    other_count = 0\n",
    "    for liquor in liquor_reader:\n",
    "        if other_count == 0: \n",
    "            writer.writerow(liquor)\n",
    "            count += 1\n",
    "        other_count +=1\n",
    "        if other_count == 33:\n",
    "            other_count = 0\n",
    "\n",
    "        if count == 350066: break\n",
    "print(count)\n",
    "print(\"Writing complete\")"
   ]
  },
  {
   "cell_type": "code",
   "execution_count": 15,
   "metadata": {},
   "outputs": [],
   "source": [
    "# Filtrirani podatki naloženi (crash data filt je isti, ker je tako ali tako cel)\n",
    "crash1_filt_non_rand_reader = DictReader(open('data/Crash_Data_1_filt.csv', 'rt', encoding='utf-8'))\n",
    "crash2_filt_non_rand_reader = DictReader(open('data/Crash_Data_2_filt_non_rand.csv', 'rt', encoding='utf-8'))\n",
    "liquor_filt_non_rand_reader = DictReader(open('data/Liquor_Data_filt_non_rand.csv', 'rt', encoding='utf-8'))"
   ]
  },
  {
   "cell_type": "markdown",
   "metadata": {},
   "source": [
    "### Pomembnejši atributi"
   ]
  },
  {
   "cell_type": "markdown",
   "metadata": {},
   "source": [
    "Iz podatkovnih množic bomo upoštevali naslednje atribute:\n",
    "\n",
    "- Crash1: ID,Crash date, Crash day, time string, drug alcohol (stopnje), weather (stopnje 0-10, 10 najhuje), paved road (0 ali 1), fatalities, injuries, property damage, x in y koordinati.\n",
    "<br />\n",
    "\n",
    "- Crash2: ID,Driver age, x in y koordinati,drug result (0-100), alcohol result(0-100),drugtest (0 ali 1), alctest (0 ali 1), damage ($), crash severity (0-10), fatalities, crash year. ; problem ker ni datum, ampak samo leto.\n",
    "<br />\n",
    "- Liquor: Date, Invoice number (kot id),city,sale (dollars), volume sold (litres) ; Iz sale, in volume sold bomo poskušali predvidevati ali gre za žgane pijače ali ne.\n",
    "\n"
   ]
  },
  {
   "cell_type": "markdown",
   "metadata": {},
   "source": [
    "### Zastavljena vprašanja\n",
    "\n",
    "Glede na to, da je možno veliko število kombinacij atributov, smo si za začetek zastavili vprašanja (vezana samo na zvezno državo Iowa), ki so mogoče malo bolj osnovna, in sicer nas zanima:\n",
    "- Če obstaja korelacija z visoko prodajo alkohola, in številom prometnih nesreč v določenih mesecih.\n",
    "- Koliko od vseh prometnih nesreč na mesec je povezanih z alkoholom, in koliko od teh je resnejših (velika škoda).\n",
    "- V katerem področju se zgodi največ nesreč, in kje se zgodi največ nesreč povezanih z alkoholom.\n",
    "- V katerem delu dneva se zgodi večina prometnih nesreč, in v katerem delu dneva se zgodi večina povezanih z alkoholom.\n",
    "- V povprečju, koliko je poškodb, ali žrtev v prometnih nesrečah, in če je to število povečano v nesrečah povezanih z alkoholom."
   ]
  },
  {
   "cell_type": "markdown",
   "metadata": {},
   "source": [
    "## Meseci z podatkom o prodanem alkoholu in številom prometnih nesreč"
   ]
  },
  {
   "cell_type": "code",
   "execution_count": 7,
   "metadata": {},
   "outputs": [],
   "source": [
    "from collections import defaultdict"
   ]
  },
  {
   "cell_type": "code",
   "execution_count": 5,
   "metadata": {},
   "outputs": [
    {
     "name": "stdout",
     "output_type": "stream",
     "text": [
      "Število prometnih nesreč mesec-leto:\n",
      "01-2016: 3157\n",
      "03-2016: 2276\n",
      "02-2016: 2865\n",
      "04-2016: 2357\n",
      "05-2016: 2738\n",
      "01-2006: 2610\n",
      "Število prodanega alkohola mesec-leto:\n",
      "11-2015: 5304\n",
      "01-2015: 4870\n",
      "02-2015: 4786\n",
      "06-2012: 5067\n",
      "04-2012: 5048\n",
      "06-2014: 5710\n"
     ]
    }
   ],
   "source": [
    "crash1 = defaultdict(list)\n",
    "#crash2 = defaultdict(list)\n",
    "liquor = defaultdict(list)\n",
    "crash1_month = defaultdict(int)\n",
    "liquor_month = defaultdict(int)\n",
    "\n",
    "crash1_filt_reader = DictReader(open('data/Crash_Data_1.csv', 'rt', encoding='utf-8'))\n",
    "#crash2_filt_reader = DictReader(open('data/Crash_Data_2_filt.csv', 'rt', encoding='utf-8'))\n",
    "liquor_filt_reader = DictReader(open('data/Liquor_Data_filt_non_rand.csv', 'rt', encoding='utf-8'))\n",
    "\n",
    "# prepis podatkov v seznam\n",
    "for row in crash1_filt_reader:\n",
    "    crash1[row[\"OBJECTID\"]] = [row[\"CRASH_DATE\"], row[\"CITYNAME\"], row[\"DRUGALC\"]]\n",
    "\n",
    "#for row in crash2_filt_reader:\n",
    "#    crash2[int(row[\"OBJECTID\"])] = [row[\"CRASH_DATE\"], row[\"DRUGALC\"]]\n",
    "\n",
    "for row in liquor_filt_reader:\n",
    "    liquor[row[\"Invoice/Item Number\"]] = [row[\"Date\"], row[\"City\"]]   \n",
    "\n",
    "print(\"Število prometnih nesreč mesec-leto:\")\n",
    "\n",
    "x = 0\n",
    "for key in crash1.keys():\n",
    "    date = (crash1[key][0].split(\"T\")[0])\n",
    "    ymd = date.split(\"-\")\n",
    "    month_year = ymd[1] + \"-\" + ymd[0]\n",
    "    crash1_month[month_year] += 1\n",
    "\n",
    "x = 0\n",
    "for e in crash1_month.keys():\n",
    "    print(e + \": \" + str(crash1_month[e]))\n",
    "    x = x + 1\n",
    "    if x > 5:\n",
    "        break\n",
    "\n",
    "print(\"Število prodanega alkohola mesec-leto:\")      \n",
    "\n",
    "x = 0\n",
    "for key in liquor.keys():\n",
    "    mdy = liquor[key][0].split(\"/\")\n",
    "    month_year = mdy[0] + \"-\" + mdy[2]\n",
    "    liquor_month[month_year] += 1\n",
    "\n",
    "x = 0\n",
    "for e in liquor_month.keys():\n",
    "    print(e + \": \" + str(liquor_month[e]))\n",
    "    x = x + 1\n",
    "    if x > 20:\n",
    "        break"
   ]
  },
  {
   "cell_type": "markdown",
   "metadata": {},
   "source": [
    "## Shranjevanje podatkov o prodajih alkohola na mesec v datoteko"
   ]
  },
  {
   "cell_type": "markdown",
   "metadata": {},
   "source": [
    "**Uporabljen drugačen pristop kot zgoraj**"
   ]
  },
  {
   "cell_type": "code",
   "execution_count": 6,
   "metadata": {},
   "outputs": [
    {
     "name": "stdout",
     "output_type": "stream",
     "text": [
      "Mesec: januar, količina prodanega alkohola: 206808.68 litrov, cena: 3101926.41$\n",
      "Mesec: februar, količina prodanega alkohola: 220448.07 litrov, cena: 3238529.56$\n",
      "Mesec: marec, količina prodanega alkohola: 236121.61 litrov, cena: 3739737.42$\n",
      "Mesec: april, količina prodanega alkohola: 244784.19 litrov, cena: 3678158.20$\n",
      "Mesec: maj, količina prodanega alkohola: 260013.39 litrov, cena: 3788373.61$\n",
      "Mesec: junij, količina prodanega alkohola: 266225.78 litrov, cena: 3746400.74$\n",
      "Mesec: julij, količina prodanega alkohola: 238908.91 litrov, cena: 3282433.75$\n",
      "Mesec: avgust, količina prodanega alkohola: 237938.80 litrov, cena: 3368905.37$\n",
      "Mesec: september, količina prodanega alkohola: 189006.85 litrov, cena: 2980050.60$\n",
      "Mesec: oktober, količina prodanega alkohola: 267046.56 litrov, cena: 4040425.80$\n",
      "Mesec: november, količina prodanega alkohola: 170003.88 litrov, cena: 2820874.59$\n",
      "Mesec: december, količina prodanega alkohola: 233509.65 litrov, cena: 3861972.63$\n"
     ]
    }
   ],
   "source": [
    "import matplotlib.image as mpimg\n",
    "import matplotlib.pyplot as plt\n",
    "\n",
    "import numpy as np\n",
    "from csv import DictReader\n",
    "import pandas as pd\n",
    "from collections import defaultdict\n",
    "import csv\n",
    "\n",
    "\n",
    "# Za vsak mesec iščem število prodanega alkohola\n",
    "# relevantno gledati po atributu Bottle Volume(ml) ali po  Sale(Dollars)\n",
    "# podatke shranim v slovar, kjer je ključ posamezen mesec letu(1, 2, 3,..,12)\n",
    "\n",
    "liquor_reader = DictReader(open('data/Liquor_Data_filt.csv', 'rt', encoding='utf-8'))\n",
    "#print(liquor_reader.fieldnames)\n",
    "\n",
    "alkohol_kolicina = defaultdict(float)\n",
    "alkohol_denar = defaultdict(float)\n",
    "\n",
    "for i, liquor in enumerate(liquor_reader):\n",
    "    try:\n",
    "        # shranim datum in ceno alkohila, ki pa ji odrežem znak $\n",
    "        datum = pd.DatetimeIndex([liquor['Date']])\n",
    "        cena = liquor['Sale (Dollars)'].strip(\"$\")\n",
    "        # za mesec shranim količino alkohola\n",
    "        alkohol_kolicina[datum.month[0]] += float(liquor['Volume Sold (Liters)'])\n",
    "        # za še mesec shranim koliko denarja je bilo porabljeno za alkohol\n",
    "        alkohol_denar[datum.month[0]] += float(cena)\n",
    "    except Exception as e:\n",
    "        pass\n",
    "        #print(i, e)\n",
    "\n",
    "    #if i % 10000 == 0:\n",
    "    #    print(i)\n",
    "\n",
    "meseci = ['januar', 'februar', 'marec', 'april', 'maj', 'junij', 'julij', 'avgust', 'september', 'oktober', 'november', 'december']\n",
    "# shranim podatke v csv datoteko\n",
    "with open('export/litri_cena.csv', 'w') as csvfile:\n",
    "    filewriter = csv.writer(csvfile, delimiter=',')\n",
    "    filewriter.writerow([\"Mesec\", \"Kolicina(l)\", \"Skupna cena($)\"])\n",
    "    for mesec, _ in sorted(alkohol_kolicina.items()):\n",
    "        print(\"Mesec: {}, količina prodanega alkohola: {:.2f} litrov, cena: {:.2f}$\".format(meseci[mesec - 1], alkohol_kolicina[mesec], alkohol_denar[mesec]))\n",
    "        filewriter.writerow([mesec, alkohol_kolicina[mesec], alkohol_denar[mesec]])"
   ]
  },
  {
   "cell_type": "code",
   "execution_count": 7,
   "metadata": {},
   "outputs": [
    {
     "data": {
      "image/png": "[encoded data removed]",
      "text/plain": [
       "<matplotlib.figure.Figure at 0x1089e7fd0>"
      ]
     },
     "metadata": {},
     "output_type": "display_data"
    }
   ],
   "source": [
    "cash = []\n",
    "months = []\n",
    "for mesec, _ in alkohol_kolicina.items():\n",
    "    cash.append(alkohol_denar[mesec])\n",
    "    months.append(mesec)\n",
    "pyplot1 = plt\n",
    "pyplot1.figure()\n",
    "xlen= range(len(months))\n",
    "ylabel = cash\n",
    "#plt.set_ylabel(\"Frekvenčna porazdelitev\")\n",
    "pyplot1.bar(meseci,ylabel,align=\"center\", width=0.4, alpha=0.5)\n",
    "pyplot1.xticks(rotation=90)\n",
    "pyplot1.tight_layout()\n",
    "#plt.set_title(\"Frekvenca žanrov\")\n",
    "pyplot1.show()"
   ]
  },
  {
   "cell_type": "code",
   "execution_count": null,
   "metadata": {},
   "outputs": [],
   "source": []
  }
 ],
 "metadata": {
  "kernelspec": {
   "display_name": "Python 3",
   "language": "python",
   "name": "python3"
  },
  "language_info": {
   "codemirror_mode": {
    "name": "ipython",
    "version": 3
   },
   "file_extension": ".py",
   "mimetype": "text/x-python",
   "name": "python",
   "nbconvert_exporter": "python",
   "pygments_lexer": "ipython3",
   "version": "3.6.4"
  }
 },
 "nbformat": 4,
 "nbformat_minor": 2
}
