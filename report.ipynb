{
 "cells": [
  {
   "cell_type": "markdown",
   "metadata": {},
   "source": [
    "\n",
    "|  |  | [Naprej](Vprasanje_1_in_2.ipynb) |\n",
    "|---|:---:|---:|\n",
    "\n"
   ]
  },
  {
   "cell_type": "markdown",
   "metadata": {},
   "source": [
    "## Prometne nesreče in prodaja alkohola v zvezni državi Iowa"
   ]
  },
  {
   "cell_type": "markdown",
   "metadata": {},
   "source": [
    "**Člani Skupine**\n",
    "<li>David Zagoršek</li>\n",
    "<li>Klemen Čulk</li>\n",
    "<li>Žan Žagar</li>"
   ]
  },
  {
   "cell_type": "markdown",
   "metadata": {},
   "source": [
    "### Zastavljena vprašanja\n",
    "\n",
    "Glede na to, da je možno veliko število kombinacij atributov, smo si za začetek zastavili vprašanja (vezana samo na zvezno državo Iowa), ki so mogoče malo bolj osnovna, in sicer nas zanima:\n",
    "1. [Povezava](Vprasanje_1_in_2.ipynb) Če obstaja korelacija z visoko prodajo alkohola, in številom prometnih nesreč v določenih mesecih.\n",
    "2. [Povezava](Vprasanje_1_in_2.ipynb) Koliko od vseh prometnih nesreč na mesec je povezanih z alkoholom, in koliko od teh je resnejših (velika škoda).\n",
    "3. [Povezava](Vprasanje_3.ipynb) V katerem področju se zgodi največ nesreč, in kje se zgodi največ nesreč povezanih z alkoholom.\n",
    "4. [Povezava](Vprasanje_4.ipynb) V katerem delu dneva se zgodi večina prometnih nesreč, in v katerem delu dneva se zgodi večina povezanih z alkoholom.\n",
    "5. [Povezava](Vprasanje_5.ipynb) V povprečju, koliko je poškodb, ali žrtev v prometnih nesrečah, in če je to število povečano v nesrečah povezanih z alkoholom.\n",
    "6. [Povezava](Vprasanje_6.ipynb) Če so se zgodile kakšne večje spremembe legislacij ali zakonov v zvezni državi Iowa\n",
    "7. [Povezava](Vprasanje_1.ipynb) Graf koliko denarja se za alkohol zapravi v vsakemu mesecu"
   ]
  },
  {
   "cell_type": "markdown",
   "metadata": {},
   "source": [
    "### 1. Ali obstaja korelacija z visoko prodajo alkohola, in številom prometnih nesreč v določenih mesecih?"
   ]
  },
  {
   "cell_type": "markdown",
   "metadata": {},
   "source": [
    "<img src=\"https://raw.githubusercontent.com/Zanz2/PR18zzdzkc/master/assets/1_2/vprasanje1in2/kolcina-alkohola.png\" alt=\"hehe\"></img>"
   ]
  },
  {
   "cell_type": "markdown",
   "metadata": {},
   "source": [
    "<img src=\"https://raw.githubusercontent.com/Zanz2/PR18zzdzkc/master/assets/1_2/vprasanje1in2/nesrece-alkohol.png\" alt=\"hehe\"></img>"
   ]
  },
  {
   "cell_type": "markdown",
   "metadata": {},
   "source": [
    "<img src=\"https://raw.githubusercontent.com/Zanz2/PR18zzdzkc/master/assets/1_2/vprasanje1in2/regresija.png\" alt=\"hehe\"></img>"
   ]
  },
  {
   "cell_type": "markdown",
   "metadata": {},
   "source": [
    "### 2. Koliko od vseh prometnih nesreč na mesec je povezanih z alkoholom in koliko od teh je resnejših (velika škoda)?"
   ]
  },
  {
   "cell_type": "markdown",
   "metadata": {},
   "source": [
    "<img src=\"https://raw.githubusercontent.com/Zanz2/PR18zzdzkc/master/assets/1_2/vprasanje1in2/vp2s1.png\" alt=\"hehe\"></img>"
   ]
  },
  {
   "cell_type": "markdown",
   "metadata": {},
   "source": [
    "<img src=\"https://raw.githubusercontent.com/Zanz2/PR18zzdzkc/master/assets/1_2/vprasanje1in2/vp2s2.png\" alt=\"hehe\"></img>"
   ]
  },
  {
   "cell_type": "markdown",
   "metadata": {},
   "source": [
    "### 3. V katerem področju se zgodi največ nesreč, in kje se zgodi največ nesreč povezanih z alkoholom"
   ]
  },
  {
   "cell_type": "markdown",
   "metadata": {},
   "source": [
    "<img src=\"https://raw.githubusercontent.com/Zanz2/PR18zzdzkc/master/assets/3/nesrece_non_alc.png\" alt=\"hehe\"></img>"
   ]
  },
  {
   "cell_type": "markdown",
   "metadata": {},
   "source": [
    "<img src=\"https://raw.githubusercontent.com/Zanz2/PR18zzdzkc/master/assets/3/nesrece_alc.png\" alt=\"hehe\"></img>"
   ]
  },
  {
   "cell_type": "markdown",
   "metadata": {},
   "source": [
    "** V zgornjih prikazih vidimo pri katerih koordinatih je največ nesreč (prva slika), in pri spodnji sliki, kje je največ nesreč kjer je povečan alkohol v krvi, mesto Sioux city ima bistveno večje razmerje med normalnimi nesrečami, in temi s povečani ravni alkohola v krvi **"
   ]
  },
  {
   "cell_type": "markdown",
   "metadata": {},
   "source": [
    "\n",
    "**Največje žarišče zgleda da je pri 41.5, -93.5 , kar pa je mesto Des Moines, največje mesto v Iowi, tukaj zgleda da so podatki pravilni, veliko je tudi 41.25, -96.1, kar pa tudi zgleda da je pravilno, kajti to je mesto Omaha**"
   ]
  },
  {
   "cell_type": "markdown",
   "metadata": {},
   "source": [
    "### 4. V katerem delu dneva se zgodi večina prometnih nesreč, in v katerem delu dneva se zgodi večina povezanih z alkoholom?"
   ]
  },
  {
   "cell_type": "markdown",
   "metadata": {},
   "source": [
    "<img src=\"https://raw.githubusercontent.com/Zanz2/PR18zzdzkc/master/assets/4/non_alc_per_hour.png\" alt=\"hehe\"></img>"
   ]
  },
  {
   "cell_type": "markdown",
   "metadata": {},
   "source": [
    "<img src=\"https://raw.githubusercontent.com/Zanz2/PR18zzdzkc/master/assets/4/alc_per_hour.png\" alt=\"hehe\"></img>"
   ]
  },
  {
   "cell_type": "markdown",
   "metadata": {},
   "source": [
    "**V zbirki podatkov crash1 smo uporabili atribut drugalc, ki opisuje voznikovo stanje ob nesreči. Vrednost 8 označuje trezno stanje. Glede na uro smo nato prešteli število nesreč, in ugotovili, da se ob treznem stanju pojavi logična porazdelitev, ki pove, da je največ nesreč ob najbolj gostem prometu, ki pa je okoli 15:00 popoldan. Nesreče povezane z alkoholom pa tudi zelo intuitivno opišejo porazdelitev nesreč. Namreč največ se jih pojavi okoli 2:00 zjutraj. **"
   ]
  },
  {
   "cell_type": "markdown",
   "metadata": {},
   "source": [
    "### 5. V povprečju, koliko je poškodb, ali žrtev v prometnih nesrečah, in če je to število povečano v nesrečah povezanih z alkoholom.\n",
    "\n"
   ]
  },
  {
   "cell_type": "markdown",
   "metadata": {},
   "source": [
    "<img src=\"https://raw.githubusercontent.com/Zanz2/PR18zzdzkc/master/assets/5/stats_alc_non_alc.png\" alt=\"hehe\"></img>"
   ]
  },
  {
   "cell_type": "markdown",
   "metadata": {},
   "source": [
    "** Vidimo, da sta vrednosti povečane, kjer smo upoštevali samo vnose z pozitivnim alk. testom, ampak, ker ima samo druga podatkovna zbirka podatek o alkohol testu, nima pa podatkov o poškodovanih, tega nemoremo primerjati **\n"
   ]
  },
  {
   "cell_type": "markdown",
   "metadata": {},
   "source": [
    "### 6. Spremembe legislacij v zvezni državi Iowa"
   ]
  },
  {
   "cell_type": "markdown",
   "metadata": {},
   "source": [
    "Za podatke o spremembah legislacij po letu 2006 smo iskali na straneh abd.iowa.gov ter googlali po raznih člankih. Našli smo naslednje podatke, ki so bolj osnovni, kaj drugih podatkov o spremembah zakonov ali legislacij pa nismo zasledili.\n",
    "\n",
    "<li>Najmanjša starost, da lahko legalno kupiš alkohol (oz ti ga prodajo) je 21 let</li>\n",
    "<li>Pitje alkohola v javnosti je načeloma prepovedano, če je oseba pod 21 let ji lahko tudi vzamejo izpit za avot, če tega ima</li>\n",
    "<li>Alkohol se lahko prodaja in servira od 6:00 - 2:00 (od šestih zjutraj do dveh zjutraj)</li>\n",
    "<li>Prepovedano je vinjen voziti motorno vozilo</li>"
   ]
  }
 ],
 "metadata": {
  "kernelspec": {
   "display_name": "Python 3",
   "language": "python",
   "name": "python3"
  },
  "language_info": {
   "codemirror_mode": {
    "name": "ipython",
    "version": 3
   },
   "file_extension": ".py",
   "mimetype": "text/x-python",
   "name": "python",
   "nbconvert_exporter": "python",
   "pygments_lexer": "ipython3",
   "version": "3.6.4"
  }
 },
 "nbformat": 4,
 "nbformat_minor": 2
}
