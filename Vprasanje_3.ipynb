{
 "cells": [
  {
   "cell_type": "markdown",
   "metadata": {},
   "source": [
    "## V katerem področju se zgodi največ nesreč, in kje se zgodi največ nesreč povezanih z alkoholom"
   ]
  },
  {
   "cell_type": "markdown",
   "metadata": {},
   "source": [
    "### X in Y koordinate bom razdelil v meje, vsebovane v kvadratkih, ki jih bom spodaj izračunal"
   ]
  },
  {
   "cell_type": "code",
   "execution_count": 30,
   "metadata": {},
   "outputs": [],
   "source": [
    "# Reevantni importi\n",
    "% matplotlib inline\n",
    "import matplotlib.image as mpimg\n",
    "import matplotlib.pyplot as plt\n",
    "from Orange.data.filter import SameValue\n",
    "from Orange.data import Table\n",
    "import numpy as np\n",
    "from csv import DictReader"
   ]
  },
  {
   "cell_type": "code",
   "execution_count": 31,
   "metadata": {},
   "outputs": [],
   "source": [
    "# Filtrirani podatki naloženi (crash data filt je isti, ker je tako ali tako cel)\n",
    "crash1_reader = DictReader(open('data/Crash_Data_1_filt.csv', 'rt', encoding='utf-8'))\n",
    "crash2_reader = DictReader(open('data/Crash_Data_2_filt_non_rand.csv', 'rt', encoding='utf-8'))\n",
    "liquor_reader = DictReader(open('data/Liquor_Data_filt_non_rand.csv', 'rt', encoding='utf-8'))"
   ]
  },
  {
   "cell_type": "code",
   "execution_count": 32,
   "metadata": {},
   "outputs": [
    {
     "name": "stdout",
     "output_type": "stream",
     "text": [
      "OrderedDict([('\\ufeffX', '-93.511904910700665'), ('Y', '41.648063161780378'), ('OBJECTID', '1001'), ('CRASH_KEY', '2016902721'), ('CASENUMBER', '2016902721'), ('LECASENUM', '16-452'), ('CRASH_DATE', '2016-01-20T00:00:00.000Z'), ('CRASH_MONTH', '1'), ('CRASH_DAY', '4'), ('TIMESTR', '20:02'), ('DISTRICT', '1'), ('COUNTY_NUMBER', '77'), ('CITYNAME', '132'), ('SYSTEMSTR', 'US 6'), ('LITERAL', 'US 6/HUBBELL AVE/NE RAMP/SPEC CASE/FREDERICK M HUBBELL AVE'), ('FRSTHARM', '33'), ('LOCFSTHRM', '1'), ('CRCOMNNR', '4'), ('MAJCSE', '9'), ('DRUGALC', '8'), ('ECNTCRC', '1'), ('LIGHT', '5'), ('CSRFCND', '1'), ('WEATHER', '1'), ('RCNTCRC', '1'), ('RDTYP', '22'), ('PAVED', '1'), ('WZRELATED', ''), ('CSEV', '5'), ('FATALITIES', '0'), ('INJURIES', '0'), ('MAJINJURY', '0'), ('MININJURY', '0'), ('POSSINJURY', '0'), ('UNKINJURY', '0'), ('PROPDMG', '6000'), ('VEHICLES', '2'), ('TOCCUPANTS', '2'), ('REPORT', '7'), ('XCOORD', '457373'), ('YCOORD', '4610828')])\n",
      "------------------\n",
      "OrderedDict([('\\ufeffX', '-92.650940972974254'), ('Y', '41.301146661887934'), ('OBJECTID', '2002'), ('VEH_CRASH_KEY', '2013020165'), ('VEH_UNITKEY', '2013020165001'), ('CASENUMBER', '2013744047'), ('DRIVERAGE', '65'), ('DRIVERGEN', 'M'), ('DL_STATE', 'IA'), ('CHARGED', '77'), ('ALCRESULT', '0'), ('DRUGTEST', '1'), ('DRUGRESULT', '77'), ('DRIVERCOND', '1'), ('VISIONOBS', '1'), ('DCONTCIRC1', '88'), ('DCONTCIRC2', '77'), ('VCONFIG', '2'), ('CARGOBODY', '1'), ('VYEAR', '1999'), ('MAKE', 'Ford'), ('MODEL', 'F150'), ('STYLE', '4 DOOR EXT C'), ('VLP_STATE', 'IA'), ('OCCUPANTS', '1'), ('VACTION', '9'), ('SEQEVENTS1', '35'), ('SEQEVENTS2', '77'), ('SEQEVENTS3', '77'), ('SEQEVENTS4', '77'), ('MOSTHARM', '35'), ('SPEEDLIMIT', '5'), ('TRAFCONT', '1'), ('FIXOBJSTR', '28'), ('MOSTDAMAGE', '6'), ('DAMAGE', '1'), ('CSEVERITY', '5'), ('MAJORCAUSE', '70'), ('CSURFCOND', '1'), ('DRUGALCREL', '8'), ('ROADTYPE', '4'), ('WZ_RELATED', ''), ('FATALITIES', '0'), ('CRASH_YEAR', '2013'), ('XCOORD', '529223'), ('YCOORD', '4572246')])\n",
      "------------------\n",
      "OrderedDict([('Invoice/Item Number', 'S29050300001'), ('Date', '11/16/2015'), ('Store Number', '3549'), ('Store Name', 'Quicker Liquor Store'), ('Address', '1414 48TH ST'), ('City', 'FORT MADISON'), ('Zip Code', '52627'), ('Store Location', '1414 48TH ST\\nFORT MADISON 52627\\n(40.624226, -91.373211)'), ('County Number', '56'), ('County', 'Lee'), ('Category', ''), ('Category Name', ''), ('Vendor Number', '130'), ('Vendor Name', 'Disaronno International LLC'), ('Item Number', '249'), ('Item Description', 'Disaronno Amaretto Cavalli Mignon 3-50ml Pack'), ('Pack', '20'), ('Bottle Volume (ml)', '150'), ('State Bottle Cost', '$6.40'), ('State Bottle Retail', '$9.60'), ('Bottles Sold', '2'), ('Sale (Dollars)', '$19.20'), ('Volume Sold (Liters)', '0.30'), ('Volume Sold (Gallons)', '0.08')])\n"
     ]
    }
   ],
   "source": [
    "# Pregledam kako vnosi podatkov zgledajo\n",
    "for crash in crash1_reader:\n",
    "    print(crash)\n",
    "    break\n",
    "print(\"------------------\")\n",
    "for crash in crash2_reader:\n",
    "    print(crash)\n",
    "    break\n",
    "print(\"------------------\")\n",
    "for liquor in liquor_reader:\n",
    "    print(liquor)\n",
    "    break"
   ]
  },
  {
   "cell_type": "markdown",
   "metadata": {},
   "source": [
    "### Spodaj bom izračunal meje kvadratkov koordinatnega sistema, s pomočjo minimalnih in maksimalnih koordinatov v podatkih"
   ]
  },
  {
   "cell_type": "code",
   "execution_count": 33,
   "metadata": {},
   "outputs": [
    {
     "name": "stdout",
     "output_type": "stream",
     "text": [
      "------------------\n",
      "Data 1:\n",
      "-96.64370824827424 , 43.50108618320072---------92.4040052229149 , 43.50108618320072\n",
      "---------------------------------------------------------------------------------\n",
      "---------------------------------------------------------------------------------\n",
      "---------------------------------------------------------------------------------\n",
      "---------------------------------------------------------------------------------\n",
      "---------------------------------------------------------------------------------\n",
      "---------------------------------------------------------------------------------\n",
      "-96.64370824827424 , 40.2330982959834---------92.4040052229149 , 40.2330982959834\n",
      "Data 2:\n",
      "-96.64370824827424 , 43.50100896123742---------92.4040052229149 , 43.50100896123742\n",
      "---------------------------------------------------------------------------------\n",
      "---------------------------------------------------------------------------------\n",
      "---------------------------------------------------------------------------------\n",
      "---------------------------------------------------------------------------------\n",
      "---------------------------------------------------------------------------------\n",
      "---------------------------------------------------------------------------------\n",
      "-96.64370824827424 , 40.2330982959834---------92.4040052229149 , 40.2330982959834\n"
     ]
    }
   ],
   "source": [
    "# Število X Koordinate (UTM NAD 83 Zone 15)\n",
    "# Število Y Koordinate (UTM NAD 83 Zone 15)\n",
    "# \n",
    "# Računa\n",
    "crash1_max_X = -1000;\n",
    "crash1_max_Y = -1000;\n",
    "crash1_min_X = 1000;\n",
    "crash1_min_Y = 1000;\n",
    "for crash in crash1_reader:\n",
    "    if float(crash[\"\\ufeffX\"])>crash1_max_X:\n",
    "        crash1_max_X=float(crash[\"\\ufeffX\"])\n",
    "    if float(crash[\"\\ufeffX\"])<crash1_min_X:\n",
    "        crash1_min_X=float(crash[\"\\ufeffX\"])\n",
    "    if float(crash[\"Y\"])>crash1_max_Y:\n",
    "        crash1_max_Y=float(crash[\"Y\"])\n",
    "    if float(crash[\"Y\"])<crash1_min_Y:\n",
    "        crash1_min_Y=float(crash[\"Y\"])\n",
    "print(\"------------------\")\n",
    "crash2_max_X = -1000;\n",
    "crash2_max_Y = -1000;\n",
    "crash2_min_X = 1000;\n",
    "crash2_min_Y = 1000;\n",
    "for crash in crash2_reader:\n",
    "    if float(crash[\"\\ufeffX\"])>crash2_max_X:\n",
    "        crash2_max_X=float(crash[\"\\ufeffX\"])\n",
    "    if float(crash[\"\\ufeffX\"])<crash2_min_X:\n",
    "        crash2_min_X=float(crash[\"\\ufeffX\"])\n",
    "    if float(crash[\"Y\"])>crash2_max_Y:\n",
    "        crash2_max_Y=float(crash[\"Y\"])\n",
    "    if float(crash[\"Y\"])<crash2_min_Y:\n",
    "        crash2_min_Y=float(crash[\"Y\"])\n",
    "print(\"Data 1:\")\n",
    "print(str(crash1_min_X)+\" , \"+str(crash1_max_Y)+\"--------\"+str(crash1_max_X)+\" , \"+str(crash1_max_Y))\n",
    "print(\"---------------------------------------------------------------------------------\")\n",
    "print(\"---------------------------------------------------------------------------------\")\n",
    "print(\"---------------------------------------------------------------------------------\")\n",
    "print(\"---------------------------------------------------------------------------------\")\n",
    "print(\"---------------------------------------------------------------------------------\")\n",
    "print(\"---------------------------------------------------------------------------------\")\n",
    "print(str(crash1_min_X)+\" , \"+str(crash1_min_Y)+\"--------\"+str(crash1_max_X)+\" , \"+str(crash1_min_Y))\n",
    "print(\"Data 2:\")\n",
    "print(str(crash2_min_X)+\" , \"+str(crash2_max_Y)+\"--------\"+str(crash2_max_X)+\" , \"+str(crash2_max_Y))\n",
    "print(\"---------------------------------------------------------------------------------\")\n",
    "print(\"---------------------------------------------------------------------------------\")\n",
    "print(\"---------------------------------------------------------------------------------\")\n",
    "print(\"---------------------------------------------------------------------------------\")\n",
    "print(\"---------------------------------------------------------------------------------\")\n",
    "print(\"---------------------------------------------------------------------------------\")\n",
    "print(str(crash2_min_X)+\" , \"+str(crash2_min_Y)+\"--------\"+str(crash2_max_X)+\" , \"+str(crash2_min_Y))"
   ]
  },
  {
   "cell_type": "markdown",
   "metadata": {},
   "source": [
    "**Podatki za meje koordinatov so torej sledeči: **\n",
    "\n",
    "A: 43.5010861832007 , -96.64370824827424   B:  43.50108618320072 , -92.4040052229149\n",
    "\n",
    "\n",
    "C: 40.2330982959834 , -96.64370824827424    D: 40.2330982959834 , -92.4040052229149\n",
    "\n"
   ]
  },
  {
   "cell_type": "markdown",
   "metadata": {},
   "source": [
    "#### Prek google maps sem dobil razdalje od točke do točke : \n",
    "###### A - B je 370 kilometrov\n",
    "###### A - C je 450 kilometrov\n",
    "###### C - D je 434 kilometrov\n",
    "###### B - D je 410 kilometrov"
   ]
  },
  {
   "cell_type": "code",
   "execution_count": 34,
   "metadata": {},
   "outputs": [
    {
     "name": "stdout",
     "output_type": "stream",
     "text": [
      "4.239703025359333 in 3.2679878872173163\n"
     ]
    }
   ],
   "source": [
    "difference_crash_X = crash1_max_X - crash1_min_X\n",
    "difference_crash_Y = crash1_max_Y - crash1_min_Y\n",
    "print(str(difference_crash_X)+\" in \"+str(difference_crash_Y))"
   ]
  },
  {
   "cell_type": "code",
   "execution_count": 37,
   "metadata": {},
   "outputs": [
    {
     "name": "stdout",
     "output_type": "stream",
     "text": [
      "0.021198515126796665\n",
      "0.01633993943608658\n"
     ]
    }
   ],
   "source": [
    "# Razlika med max X in min X, ter razlika med max Y in min Y: 4.239703025359333 in 3.2679878872173163\n",
    "crash_x_limit = difference_crash_X/200\n",
    "crash_y_limit = difference_crash_Y/200\n",
    "print(crash_x_limit)\n",
    "print(crash_y_limit)"
   ]
  },
  {
   "cell_type": "code",
   "execution_count": null,
   "metadata": {},
   "outputs": [],
   "source": []
  }
 ],
 "metadata": {
  "kernelspec": {
   "display_name": "Python 3",
   "language": "python",
   "name": "python3"
  },
  "language_info": {
   "codemirror_mode": {
    "name": "ipython",
    "version": 3
   },
   "file_extension": ".py",
   "mimetype": "text/x-python",
   "name": "python",
   "nbconvert_exporter": "python",
   "pygments_lexer": "ipython3",
   "version": "3.6.4"
  }
 },
 "nbformat": 4,
 "nbformat_minor": 2
}
